{
 "cells": [
  {
   "cell_type": "markdown",
   "metadata": {},
   "source": [
    "# Model Selection on the Enron Dataset (KNN vs GNB vs DTree)"
   ]
  },
  {
   "cell_type": "code",
   "execution_count": 1,
   "metadata": {
    "collapsed": false
   },
   "outputs": [],
   "source": [
    "from sklearn.neighbors import KNeighborsClassifier\n",
    "from sklearn.naive_bayes import GaussianNB\n",
    "from sklearn.tree import DecisionTreeClassifier\n",
    "from sklearn.grid_search import GridSearchCV, ParameterGrid\n",
    "from sklearn.preprocessing import MinMaxScaler, StandardScaler\n",
    "from sklearn.feature_selection import SelectKBest, f_regression\n",
    "from sklearn.pipeline import Pipeline\n",
    "from sklearn.metrics import recall_score, precision_score, f1_score, classification_report, confusion_matrix"
   ]
  },
  {
   "cell_type": "code",
   "execution_count": 2,
   "metadata": {
    "collapsed": false
   },
   "outputs": [],
   "source": [
    "import sys\n",
    "import pickle\n",
    "import numpy as np\n",
    "import pprint\n",
    "from tabulate import tabulate \n",
    "\n",
    "from feature_format import featureFormat, targetFeatureSplit\n",
    "from tester import dump_classifier_and_data\n",
    "from sklearn.cross_validation import cross_val_score, StratifiedKFold, StratifiedShuffleSplit\n",
    "from tester import test_classifier\n",
    "from wrappers import BestFirstSearchWrapper, RandomSubsetsWrapper"
   ]
  },
  {
   "cell_type": "code",
   "execution_count": 3,
   "metadata": {
    "collapsed": false
   },
   "outputs": [],
   "source": [
    "%matplotlib inline\n",
    "import matplotlib.pyplot as plt\n"
   ]
  },
  {
   "cell_type": "code",
   "execution_count": 4,
   "metadata": {
    "collapsed": false
   },
   "outputs": [],
   "source": [
    "from data_cleaning import clean_dataset\n",
    "from feature_engineering import feature_engineering\n",
    "\n",
    "my_dataset = clean_dataset(pickle.load(open(\"final_project_dataset.pkl\", \"r\") ))\n",
    "my_dataset, feature_names = feature_engineering(my_dataset)\n",
    "data = featureFormat(my_dataset, feature_names, remove_all_zeroes=False)\n",
    "labels, features = targetFeatureSplit(data)\n"
   ]
  },
  {
   "cell_type": "code",
   "execution_count": 5,
   "metadata": {
    "collapsed": true
   },
   "outputs": [],
   "source": [
    "from feature_scaling import SigmoidMinMaxScaler"
   ]
  },
  {
   "cell_type": "code",
   "execution_count": 7,
   "metadata": {
    "collapsed": false
   },
   "outputs": [],
   "source": [
    "anova_filter = SelectKBest()\n",
    "cv = StratifiedShuffleSplit(labels, n_iter=1000, random_state=42)"
   ]
  },
  {
   "cell_type": "code",
   "execution_count": 8,
   "metadata": {
    "collapsed": false
   },
   "outputs": [],
   "source": [
    "from sklearn.base import clone\n",
    "def anova_test(model,ks,parameters,scoring=min_of_prec_rec,cv=cv):\n",
    "    results = []\n",
    "    for k in ks:\n",
    "        \n",
    "        anova = SelectKBest(k=k).fit(features, labels)\n",
    "        F = anova.transform(features)\n",
    "        k_res = []\n",
    "        for params in ParameterGrid(parameters):\n",
    "            minstance = clone(model).set_params(**params)\n",
    "            scores = cross_val_score(minstance, X=F, y=labels, scoring=scoring, cv=cv)\n",
    "        \n",
    "            k_res.append((np.mean(scores),params,anova,scores))\n",
    "        results.append(sorted(k_res, reverse=True, key=lambda x: x[0]))\n",
    "    return results\n",
    "anova_k = [1,3,5,10,15,20,len(feature_names)-1]\n",
    "\n",
    "def bfs_test(model, parameters, scoring=min_of_prec_rec, cv=cv):\n",
    "    results = []\n",
    "    for params in ParameterGrid(parameters):\n",
    "        minstance = clone(model)\n",
    "        minstance = minstance.set_params(**params).fit(features, labels)\n",
    "        scores = cross_val_score(minstance, X=features, y=labels, scoring=scoring, cv=cv)\n",
    "    \n",
    "        results.append((np.mean(scores), params, minstance, scores))\n",
    "    \n",
    "    return results\n",
    "\n",
    "\n",
    "\n",
    "def get_fnames(inds):\n",
    "    return ['poi'] + list(np.array(feature_names[1:])[inds])\n",
    "def boxplot_with_labels(data, labels, *args, **kwargs):\n",
    "    plt.boxplot(data, *args, **kwargs)\n",
    "    ax1 = plt.gca()\n",
    "    xtickNames = plt.setp(ax1,xticklabels=labels)\n",
    "    _ = plt.setp(xtickNames, rotation=45, fontsize=8)\n",
    "from itertools import chain\n",
    "def flatten(listOfLists):\n",
    "    \"Flatten one level of nesting\"\n",
    "    return chain.from_iterable(listOfLists)"
   ]
  },
  {
   "cell_type": "markdown",
   "metadata": {},
   "source": [
    "# KNN"
   ]
  },
  {
   "cell_type": "markdown",
   "metadata": {},
   "source": [
    "### With Anova Feature Selection"
   ]
  },
  {
   "cell_type": "code",
   "execution_count": 9,
   "metadata": {
    "collapsed": false
   },
   "outputs": [
    {
     "name": "stderr",
     "output_type": "stream",
     "text": [
      "/Library/Python/2.7/site-packages/sklearn/metrics/classification.py:960: UndefinedMetricWarning: F-score is ill-defined and being set to 0.0 due to no predicted samples.\n",
      "  'precision', 'predicted', average, warn_for)\n"
     ]
    }
   ],
   "source": [
    "\n",
    "knn_pipeline = Pipeline([\n",
    "    ('scaler', SigmoidMinMaxScaler()),\n",
    "\t('knn', KNeighborsClassifier())\n",
    "])\n",
    "\n",
    "\n",
    "parameters = {\n",
    "\t'knn__n_neighbors': [1,3,5],\n",
    "}\n",
    "\n",
    "\n",
    "anova_results = anova_test(knn_pipeline, anova_k, parameters, scoring='f1', cv=cv)\n",
    "\n",
    "\n",
    "    "
   ]
  },
  {
   "cell_type": "code",
   "execution_count": 11,
   "metadata": {
    "collapsed": false
   },
   "outputs": [
    {
     "data": {
      "image/png": "[encoded data removed]",
      "text/plain": [
       "<matplotlib.figure.Figure at 0x1034cb350>"
      ]
     },
     "metadata": {},
     "output_type": "display_data"
    }
   ],
   "source": [
    "ms,_,anova,scores = zip(*sorted(anova_results[-1], key=lambda x: x[1]['knn__n_neighbors']))\n",
    "plt.figure(figsize=(8,6))\n",
    "boxplot_with_labels(scores, [1,3,5], usermedians=ms)\n",
    "plt.title('Cross Validation for ANOVA-picked feature sets')\n",
    "plt.xlabel('K setting')\n",
    "plt.ylabel('F1')\n",
    "plt.savefig('CV-ANOVA-KNN.png')"
   ]
  },
  {
   "cell_type": "code",
   "execution_count": 12,
   "metadata": {
    "collapsed": false
   },
   "outputs": [
    {
     "name": "stdout",
     "output_type": "stream",
     "text": [
      "Pipeline(steps=[('scaler', SigmoidMinMaxScaler(copy=True, feature_range=(0, 1))), ('knn', KNeighborsClassifier(algorithm='auto', leaf_size=30, metric='minkowski',\n",
      "           metric_params=None, n_neighbors=1, p=2, weights='uniform'))])\n",
      "\tAccuracy: 0.88727\tPrecision: 0.63060\tRecall: 0.37300\tF1: 0.46874\tF2: 0.40619\n",
      "\tTotal predictions: 15000\tTrue positives:  746\tFalse positives:  437\tFalse negatives: 1254\tTrue negatives: 12563\n",
      "\n"
     ]
    }
   ],
   "source": [
    "fnames = get_fnames(np.nonzero(anova[0].get_support()))\n",
    "\n",
    "knn_anova_clf = Pipeline([('scaler', SigmoidMinMaxScaler()),('knn', KNeighborsClassifier(n_neighbors=1))])\n",
    "\n",
    "test_classifier(knn_anova_clf, my_dataset, fnames, folds = 1000)"
   ]
  },
  {
   "cell_type": "code",
   "execution_count": 13,
   "metadata": {
    "collapsed": false
   },
   "outputs": [
    {
     "name": "stdout",
     "output_type": "stream",
     "text": [
      "\\begin{tabular}{rrrr}\n",
      "\\hline\n",
      "   Num Features &   K &    Mean F1 &   F1 Std. \\\\\n",
      "\\hline\n",
      "              1 &   1 & 0.23478    & 0.264004  \\\\\n",
      "              1 &   3 & 0.172467   & 0.281428  \\\\\n",
      "              1 &   5 & 0.0684667  & 0.196715  \\\\\n",
      "              3 &   1 & 0.353157   & 0.310312  \\\\\n",
      "              3 &   3 & 0.348371   & 0.352423  \\\\\n",
      "              3 &   5 & 0.300967   & 0.340049  \\\\\n",
      "              5 &   3 & 0.162757   & 0.254256  \\\\\n",
      "              5 &   1 & 0.122878   & 0.219711  \\\\\n",
      "              5 &   5 & 0.0700524  & 0.196802  \\\\\n",
      "             10 &   1 & 0.169362   & 0.253606  \\\\\n",
      "             10 &   3 & 0.0656667  & 0.194334  \\\\\n",
      "             10 &   5 & 0.0395667  & 0.156383  \\\\\n",
      "             15 &   1 & 0.221795   & 0.287486  \\\\\n",
      "             15 &   3 & 0.0539667  & 0.172922  \\\\\n",
      "             15 &   5 & 0.00596667 & 0.0603781 \\\\\n",
      "             20 &   1 & 0.207407   & 0.282396  \\\\\n",
      "             20 &   5 & 0.1002     & 0.232966  \\\\\n",
      "             20 &   3 & 0.0723333  & 0.199324  \\\\\n",
      "             24 &   1 & 0.416257   & 0.342748  \\\\\n",
      "             24 &   3 & 0.192438   & 0.293641  \\\\\n",
      "             24 &   5 & 0.1244     & 0.257587  \\\\\n",
      "\\hline\n",
      "\\end{tabular}\n"
     ]
    }
   ],
   "source": [
    "headers = ['Num Features', 'K', 'Mean F1', 'F1 Std.']\n",
    "rows = map(lambda (m,param,anova,sc):[anova.k,param['knn__n_neighbors'],m,sc.std()],flatten(anova_results))\n",
    "print tabulate(rows, headers, tablefmt='latex')"
   ]
  },
  {
   "cell_type": "code",
   "execution_count": 14,
   "metadata": {
    "collapsed": false
   },
   "outputs": [
    {
     "data": {
      "image/png": "[encoded data removed]",
      "text/plain": [
       "<matplotlib.figure.Figure at 0x10661ee10>"
      ]
     },
     "metadata": {},
     "output_type": "display_data"
    }
   ],
   "source": [
    "ms,_,_,scores = zip(*map(lambda x: x[0], anova_results))\n",
    "\n",
    "boxplot_with_labels(scores, anova_k, usermedians=ms)"
   ]
  },
  {
   "cell_type": "markdown",
   "metadata": {},
   "source": [
    "### With BestFirstSearchWrapper Feature Selection"
   ]
  },
  {
   "cell_type": "code",
   "execution_count": 15,
   "metadata": {
    "collapsed": false
   },
   "outputs": [
    {
     "name": "stdout",
     "output_type": "stream",
     "text": [
      "New best score: -0.411111111111\n",
      "New best score: -0.423206423206\n",
      "New best score: -0.469696969697\n",
      "New best score: -0.485185185185\n",
      "New best score: -0.50641025641\n",
      "New best score: -0.53367003367\n",
      "New best score: -0.551587301587\n",
      "New best score: -0.31746031746\n",
      "New best score: -0.331135531136\n",
      "New best score: -0.417378917379\n",
      "New best score: -0.448148148148\n",
      "New best score: -0.466666666667\n",
      "New best score: -0.481818181818\n",
      "New best score: -0.525252525253\n",
      "New best score: -0.21645021645\n",
      "New best score: -0.430976430976\n",
      "New best score: -0.449494949495\n",
      "New best score: -0.5\n",
      "New best score: -0.536363636364\n"
     ]
    }
   ],
   "source": [
    "\n",
    "parameters = {\n",
    "\t'knn__estimator__n_neighbors': [1,3,5],\n",
    "}\n",
    "knn_pipeline = Pipeline([\n",
    "        ('scaler', SigmoidMinMaxScaler()),\n",
    "        ('knn', BestFirstSearchWrapper(KNeighborsClassifier(), scoring='f1'))\n",
    "    ])\n",
    "bfs_results = bfs_test(knn_pipeline, parameters, scoring='f1', cv=cv)\n"
   ]
  },
  {
   "cell_type": "code",
   "execution_count": 16,
   "metadata": {
    "collapsed": false
   },
   "outputs": [
    {
     "data": {
      "image/png": "[encoded data removed]",
      "text/plain": [
       "<matplotlib.figure.Figure at 0x10530f610>"
      ]
     },
     "metadata": {},
     "output_type": "display_data"
    }
   ],
   "source": [
    "ms,_,_,scores = zip(*bfs_results)\n",
    "plt.figure(figsize=(8,6))\n",
    "boxplot_with_labels(scores, [1,3,5], usermedians=ms)\n",
    "plt.title('Cross Validation for BFS-picked feature sets')\n",
    "plt.xlabel('K setting')\n",
    "plt.ylabel('F1')\n",
    "plt.savefig('CV-BFS-KNN.png')"
   ]
  },
  {
   "cell_type": "code",
   "execution_count": 17,
   "metadata": {
    "collapsed": true
   },
   "outputs": [],
   "source": [
    "_,_,pline,_ = sorted(bfs_results, reverse=True)[0]\n",
    "\n",
    "wrapper = pline.named_steps['knn']\n",
    "knnmodel = wrapper.estimator"
   ]
  },
  {
   "cell_type": "code",
   "execution_count": 18,
   "metadata": {
    "collapsed": false
   },
   "outputs": [
    {
     "name": "stdout",
     "output_type": "stream",
     "text": [
      "['poi', 'prop_shared_with_poi', 'total_payments', 'restricted_stock_deferred', 'prop_rest_stock', 'from_messages', 'deferral_payments', 'prop_exercised_stock', 'shared_receipt_with_poi', 'to_messages', 'from_poi_to_this_person']\n"
     ]
    }
   ],
   "source": [
    "fnames = get_fnames(list(wrapper.best_subset))\n",
    "print fnames"
   ]
  },
  {
   "cell_type": "code",
   "execution_count": 19,
   "metadata": {
    "collapsed": false
   },
   "outputs": [
    {
     "name": "stdout",
     "output_type": "stream",
     "text": [
      "Pipeline(steps=[('scaler', SigmoidMinMaxScaler(copy=True, feature_range=(0, 1))), ('knn', KNeighborsClassifier(algorithm='auto', leaf_size=30, metric='minkowski',\n",
      "           metric_params=None, n_neighbors=1, p=2, weights='uniform'))])\n",
      "\tAccuracy: 0.87627\tPrecision: 0.53896\tRecall: 0.49800\tF1: 0.51767\tF2: 0.50569\n",
      "\tTotal predictions: 15000\tTrue positives:  996\tFalse positives:  852\tFalse negatives: 1004\tTrue negatives: 12148\n",
      "\n"
     ]
    }
   ],
   "source": [
    "\n",
    "knn_bfs_clf = Pipeline([('scaler', SigmoidMinMaxScaler()),('knn', knnmodel)])\n",
    "test_classifier(knn_bfs_clf, my_dataset, fnames, folds = 1000)"
   ]
  },
  {
   "cell_type": "code",
   "execution_count": 20,
   "metadata": {
    "collapsed": false
   },
   "outputs": [
    {
     "name": "stdout",
     "output_type": "stream",
     "text": [
      "\\begin{tabular}{rrrr}\n",
      "\\hline\n",
      "   K &   Length of best subset &   Mean F1 &   Std. F1 \\\\\n",
      "\\hline\n",
      "   1 &                      10 &  0.484879 &  0.314204 \\\\\n",
      "   3 &                       9 &  0.3224   &  0.332239 \\\\\n",
      "   5 &                       5 &  0.380233 &  0.350437 \\\\\n",
      "\\hline\n",
      "\\end{tabular}\n"
     ]
    }
   ],
   "source": [
    "\n",
    "headers = ['K','Length of best subset','Mean F1', 'Std. F1']\n",
    "rows = map(lambda (m,par,wr,sc): par.values() + [len(wr.named_steps['knn'].best_subset), m, sc.std()], bfs_results)\n",
    "print tabulate(rows, headers, tablefmt='latex')"
   ]
  },
  {
   "cell_type": "markdown",
   "metadata": {},
   "source": [
    "### Trying to improve the feature set for the best classifier (n_neighbors=1)"
   ]
  },
  {
   "cell_type": "code",
   "execution_count": 21,
   "metadata": {
    "collapsed": false
   },
   "outputs": [
    {
     "name": "stdout",
     "output_type": "stream",
     "text": [
      "New best score: -0.546164021164\n",
      "New best score: -0.598634920635\n",
      "New best score: -0.609031746032\n"
     ]
    }
   ],
   "source": [
    "knn_wrapper = Pipeline([\n",
    "    ('scaler', SigmoidMinMaxScaler()),\n",
    "    ('knn', BestFirstSearchWrapper(KNeighborsClassifier(n_neighbors=1), scoring='f1', \n",
    "                                   cv=StratifiedShuffleSplit(labels,n_iter=300,random_state=42),\n",
    "                                   initial_subset=wrapper.best_subset))\n",
    "]).fit(features, labels)\n",
    "    "
   ]
  },
  {
   "cell_type": "code",
   "execution_count": 22,
   "metadata": {
    "collapsed": false
   },
   "outputs": [
    {
     "name": "stdout",
     "output_type": "stream",
     "text": [
      "13 ['poi', 'prop_shared_with_poi', 'total_payments', 'restricted_stock_deferred', 'prop_rest_stock', 'from_messages', 'deferral_payments', 'prop_exercised_stock', 'shared_receipt_with_poi', 'to_messages', 'from_poi_to_this_person', 'total_stock_value', 'from_this_person_to_poi']\n"
     ]
    }
   ],
   "source": [
    "fnames = get_fnames(list(knn_wrapper.named_steps['knn'].best_subset))\n",
    "print len(fnames), fnames"
   ]
  },
  {
   "cell_type": "code",
   "execution_count": 23,
   "metadata": {
    "collapsed": false
   },
   "outputs": [
    {
     "name": "stdout",
     "output_type": "stream",
     "text": [
      "Pipeline(steps=[('scaler', SigmoidMinMaxScaler(copy=True, feature_range=(0, 1))), ('knn', KNeighborsClassifier(algorithm='auto', leaf_size=30, metric='minkowski',\n",
      "           metric_params=None, n_neighbors=1, p=2, weights='uniform'))])\n",
      "\tAccuracy: 0.90093\tPrecision: 0.64294\tRecall: 0.57800\tF1: 0.60874\tF2: 0.58992\n",
      "\tTotal predictions: 15000\tTrue positives: 1156\tFalse positives:  642\tFalse negatives:  844\tTrue negatives: 12358\n",
      "\n"
     ]
    }
   ],
   "source": [
    "knn_bfs_clf = Pipeline([('scaler', SigmoidMinMaxScaler()),('knn', KNeighborsClassifier(n_neighbors=1))])\n",
    "test_classifier(knn_bfs_clf, my_dataset, fnames, folds = 1000)"
   ]
  },
  {
   "cell_type": "markdown",
   "metadata": {
    "collapsed": true
   },
   "source": [
    "# Gaussian Naive Bayes"
   ]
  },
  {
   "cell_type": "markdown",
   "metadata": {},
   "source": [
    "### With ANOVA Feature Selection"
   ]
  },
  {
   "cell_type": "code",
   "execution_count": 24,
   "metadata": {
    "collapsed": false
   },
   "outputs": [],
   "source": [
    "\n",
    "gnb_pipeline = Pipeline([\n",
    "\t('scaler', SigmoidMinMaxScaler()),\n",
    "\t('gnb',  GaussianNB())\n",
    "\t])\n",
    "\n",
    "\n",
    "grid_gnb = anova_test(gnb_pipeline, anova_k, {}, cv=cv, scoring='f1')\n",
    "\n"
   ]
  },
  {
   "cell_type": "code",
   "execution_count": 25,
   "metadata": {
    "collapsed": false
   },
   "outputs": [],
   "source": [
    "score, _, anova, scores = sorted(map(lambda x: x[0], grid_gnb), reverse=True)[0]\n",
    "fnames = get_fnames(np.nonzero(anova.get_support()))"
   ]
  },
  {
   "cell_type": "code",
   "execution_count": 26,
   "metadata": {
    "collapsed": false
   },
   "outputs": [
    {
     "name": "stdout",
     "output_type": "stream",
     "text": [
      "Pipeline(steps=[('scaler', SigmoidMinMaxScaler(copy=True, feature_range=(0, 1))), ('gnb', GaussianNB())])\n",
      "\tAccuracy: 0.67967\tPrecision: 0.23692\tRecall: 0.63150\tF1: 0.34456\tF2: 0.47371\n",
      "\tTotal predictions: 15000\tTrue positives: 1263\tFalse positives: 4068\tFalse negatives:  737\tTrue negatives: 8932\n",
      "\n"
     ]
    }
   ],
   "source": [
    "\n",
    "gnb_anova_clf = Pipeline([('scaler', SigmoidMinMaxScaler()),('gnb', GaussianNB())])\n",
    "test_classifier(gnb_anova_clf, my_dataset, fnames, folds = 1000)"
   ]
  },
  {
   "cell_type": "code",
   "execution_count": 27,
   "metadata": {
    "collapsed": false
   },
   "outputs": [
    {
     "name": "stdout",
     "output_type": "stream",
     "text": [
      "\\begin{tabular}{rrr}\n",
      "\\hline\n",
      "   Num Features &   Mean F1 &   F1 Std. \\\\\n",
      "\\hline\n",
      "              1 &  0.303233 &  0.333306 \\\\\n",
      "              3 &  0.334438 &  0.317345 \\\\\n",
      "              5 &  0.297906 &  0.306209 \\\\\n",
      "             10 &  0.320381 &  0.312564 \\\\\n",
      "             15 &  0.285421 &  0.304204 \\\\\n",
      "             20 &  0.354962 &  0.232852 \\\\\n",
      "             24 &  0.368971 &  0.210408 \\\\\n",
      "\\hline\n",
      "\\end{tabular}\n"
     ]
    }
   ],
   "source": [
    "headers = ['Num Features', 'Mean F1', 'F1 Std.']\n",
    "rows = map(lambda (m,_,anova,sc):[anova.k,m,sc.std()],flatten(grid_gnb))\n",
    "print tabulate(rows, headers, tablefmt='latex')"
   ]
  },
  {
   "cell_type": "code",
   "execution_count": 28,
   "metadata": {
    "collapsed": false
   },
   "outputs": [
    {
     "data": {
      "image/png": "[encoded data removed]",
      "text/plain": [
       "<matplotlib.figure.Figure at 0x102669b10>"
      ]
     },
     "metadata": {},
     "output_type": "display_data"
    }
   ],
   "source": [
    "ms,_,_,scores = zip(*map(lambda x: x[0], grid_gnb))\n",
    "\n",
    "boxplot_with_labels(scores, anova_k, usermedians=ms)"
   ]
  },
  {
   "cell_type": "markdown",
   "metadata": {},
   "source": [
    "### With the BestFirstSearchWrapper Feature Selection"
   ]
  },
  {
   "cell_type": "code",
   "execution_count": 29,
   "metadata": {
    "collapsed": false
   },
   "outputs": [
    {
     "name": "stdout",
     "output_type": "stream",
     "text": [
      "New best score: -0.320512820513\n",
      "New best score: -0.460317460317\n",
      "New best score: -0.498412698413\n",
      "New best score: -0.513227513228\n",
      "New best score: -0.52904040404\n",
      "New best score: -0.546897546898\n",
      "['poi', 'exercised_stock_options', 'deferred_income', 'from_poi_to_this_person', 'from_messages', 'expenses', 'prop_to_poi', 'from_this_person_to_poi', 'prop_exercised_stock']\n"
     ]
    }
   ],
   "source": [
    "gnb_pipeline = Pipeline([\n",
    "    ('scaler', SigmoidMinMaxScaler()),\n",
    "    ('gnb', BestFirstSearchWrapper(GaussianNB(), scoring='f1'))\n",
    "    ])\n",
    "\n",
    "gnb_best = gnb_pipeline.fit(features, labels)\n",
    "wrapper = gnb_best.named_steps['gnb']\n",
    "\n",
    "fnames = get_fnames(list(wrapper.best_subset))\n",
    "print fnames"
   ]
  },
  {
   "cell_type": "code",
   "execution_count": 30,
   "metadata": {
    "collapsed": false
   },
   "outputs": [
    {
     "name": "stdout",
     "output_type": "stream",
     "text": [
      "Pipeline(steps=[('scaler', SigmoidMinMaxScaler(copy=True, feature_range=(0, 1))), ('gnb', GaussianNB())])\n",
      "\tAccuracy: 0.84153\tPrecision: 0.39235\tRecall: 0.34350\tF1: 0.36630\tF2: 0.35227\n",
      "\tTotal predictions: 15000\tTrue positives:  687\tFalse positives: 1064\tFalse negatives: 1313\tTrue negatives: 11936\n",
      "\n"
     ]
    }
   ],
   "source": [
    "gnb_bfs_clf = Pipeline([('scaler', SigmoidMinMaxScaler()),('gnb', GaussianNB())])\n",
    "test_classifier(gnb_bfs_clf, my_dataset, fnames, folds = 1000)"
   ]
  },
  {
   "cell_type": "markdown",
   "metadata": {},
   "source": [
    "### Trying to improve the feature set with more CV"
   ]
  },
  {
   "cell_type": "code",
   "execution_count": 31,
   "metadata": {
    "collapsed": false
   },
   "outputs": [
    {
     "name": "stdout",
     "output_type": "stream",
     "text": [
      "New best score: -0.32108994709\n",
      "New best score: -0.334851851852\n",
      "New best score: -0.358582010582\n",
      "New best score: -0.371841269841\n",
      "New best score: -0.393888888889\n",
      "New best score: -0.426349206349\n"
     ]
    }
   ],
   "source": [
    "gnb_pipeline = Pipeline([\n",
    "    ('scaler', SigmoidMinMaxScaler()),\n",
    "    ('gnb', BestFirstSearchWrapper(GaussianNB(), scoring='f1', \n",
    "                                 cv=StratifiedShuffleSplit(labels, n_iter=300, random_state=42),\n",
    "                                  initial_subset=wrapper.best_subset))\n",
    "    ])\n",
    "\n",
    "gnb_best = gnb_pipeline.fit(features, labels)"
   ]
  },
  {
   "cell_type": "code",
   "execution_count": 32,
   "metadata": {
    "collapsed": false,
    "scrolled": true
   },
   "outputs": [
    {
     "name": "stdout",
     "output_type": "stream",
     "text": [
      "['poi', 'exercised_stock_options', 'deferred_income', 'from_messages', 'expenses', 'prop_exercised_stock', 'total_stock_value', 'long_term_incentive', 'salary']\n"
     ]
    }
   ],
   "source": [
    "fnames = get_fnames(list(gnb_best.named_steps['gnb'].best_subset))\n",
    "print fnames"
   ]
  },
  {
   "cell_type": "code",
   "execution_count": 33,
   "metadata": {
    "collapsed": false
   },
   "outputs": [
    {
     "name": "stdout",
     "output_type": "stream",
     "text": [
      "Pipeline(steps=[('scaler', SigmoidMinMaxScaler(copy=True, feature_range=(0, 1))), ('gnb', GaussianNB())])\n",
      "\tAccuracy: 0.86213\tPrecision: 0.48113\tRecall: 0.43350\tF1: 0.45608\tF2: 0.44226\n",
      "\tTotal predictions: 15000\tTrue positives:  867\tFalse positives:  935\tFalse negatives: 1133\tTrue negatives: 12065\n",
      "\n"
     ]
    }
   ],
   "source": [
    "gnb_bfs_clf = Pipeline([('scaler', SigmoidMinMaxScaler()),('gnb', GaussianNB())])\n",
    "test_classifier(gnb_bfs_clf, my_dataset, fnames, folds = 1000)"
   ]
  },
  {
   "cell_type": "markdown",
   "metadata": {},
   "source": [
    "## Decision Trees"
   ]
  },
  {
   "cell_type": "markdown",
   "metadata": {},
   "source": [
    "### With built in feature selection"
   ]
  },
  {
   "cell_type": "code",
   "execution_count": 34,
   "metadata": {
    "collapsed": false
   },
   "outputs": [],
   "source": [
    "dtree_pipeline = Pipeline([\n",
    "\t('scaler', SigmoidMinMaxScaler()),\n",
    "\t('dtree', DecisionTreeClassifier())\n",
    "\t])\n",
    "\n",
    "parameters = {'dtree__max_depth':[2,8,16],\n",
    "              'dtree__max_features': anova_k,\n",
    "              'dtree__class_weight':[{0:1,1:1},{0:1,1:2},{0:1,1:5}]}\n",
    "\n",
    "grid_dtree = GridSearchCV(dtree_pipeline, parameters, cv=cv, scoring='f1', iid=False)\n",
    "grid_dtree = grid_dtree.fit(features, labels)\n"
   ]
  },
  {
   "cell_type": "code",
   "execution_count": 35,
   "metadata": {
    "collapsed": false
   },
   "outputs": [
    {
     "name": "stdout",
     "output_type": "stream",
     "text": [
      "Pipeline(steps=[('scaler', SigmoidMinMaxScaler(copy=True, feature_range=(0, 1))), ('dtree', DecisionTreeClassifier(class_weight={0: 1, 1: 5}, criterion='gini',\n",
      "            max_depth=2, max_features=15, max_leaf_nodes=None,\n",
      "            min_samples_leaf=1, min_samples_split=2,\n",
      "            min_weight_fraction_leaf=0.0, random_state=None,\n",
      "            splitter='best'))])\n",
      "\tAccuracy: 0.77600\tPrecision: 0.31720\tRecall: 0.59000\tF1: 0.41259\tF2: 0.50341\n",
      "\tTotal predictions: 15000\tTrue positives: 1180\tFalse positives: 2540\tFalse negatives:  820\tTrue negatives: 10460\n",
      "\n"
     ]
    }
   ],
   "source": [
    "clf = grid_dtree.best_estimator_\n",
    "test_classifier(clf, my_dataset, feature_names, folds = 1000)"
   ]
  },
  {
   "cell_type": "code",
   "execution_count": 36,
   "metadata": {
    "collapsed": false
   },
   "outputs": [
    {
     "name": "stdout",
     "output_type": "stream",
     "text": [
      "\\begin{tabular}{rlrrr}\n",
      "\\hline\n",
      "   Num Features & Class Weight   &   Max Depth &   Mean F1 &   F1 Std. \\\\\n",
      "\\hline\n",
      "              1 & \\{0: 1, 1: 5\\}   &           2 &  0.324614 &  0.246641 \\\\\n",
      "              3 & \\{0: 1, 1: 5\\}   &           2 &  0.376725 &  0.240115 \\\\\n",
      "              5 & \\{0: 1, 1: 5\\}   &           2 &  0.380175 &  0.253454 \\\\\n",
      "             10 & \\{0: 1, 1: 5\\}   &           2 &  0.40747  &  0.257806 \\\\\n",
      "             15 & \\{0: 1, 1: 5\\}   &           2 &  0.418131 &  0.254004 \\\\\n",
      "             20 & \\{0: 1, 1: 5\\}   &           2 &  0.411994 &  0.237423 \\\\\n",
      "             24 & \\{0: 1, 1: 5\\}   &           2 &  0.394084 &  0.215797 \\\\\n",
      "\\hline\n",
      "\\end{tabular}\n"
     ]
    }
   ],
   "source": [
    "headers = ['Num Features','Class Weight','Max Depth','Mean F1', 'F1 Std.']\n",
    "rows = []\n",
    "for i in anova_k:\n",
    "    best = sorted(filter(lambda x: x.parameters['dtree__max_features']==i, grid_dtree.grid_scores_), \n",
    "                  key=lambda x: x.mean_validation_score, reverse=True)[0]\n",
    "    rows.append([i,best.parameters['dtree__class_weight'],best.parameters['dtree__max_depth'],\n",
    "                 best.mean_validation_score,best.cv_validation_scores.std()])\n",
    "\n",
    "print tabulate(rows,headers, tablefmt='latex')"
   ]
  },
  {
   "cell_type": "code",
   "execution_count": 37,
   "metadata": {
    "collapsed": false,
    "scrolled": true
   },
   "outputs": [
    {
     "name": "stdout",
     "output_type": "stream",
     "text": [
      "\\begin{tabular}{rlrr}\n",
      "\\hline\n",
      "   Max Features & Misclassification Costs   &   Max Depth &   Mean Validation Score \\\\\n",
      "\\hline\n",
      "              1 & \\{0: 1, 1: 1\\}              &           2 &               0.0830333 \\\\\n",
      "              3 & \\{0: 1, 1: 1\\}              &           2 &               0.144974  \\\\\n",
      "              5 & \\{0: 1, 1: 1\\}              &           2 &               0.177566  \\\\\n",
      "             10 & \\{0: 1, 1: 1\\}              &           2 &               0.184892  \\\\\n",
      "             15 & \\{0: 1, 1: 1\\}              &           2 &               0.16544   \\\\\n",
      "             20 & \\{0: 1, 1: 1\\}              &           2 &               0.140375  \\\\\n",
      "             24 & \\{0: 1, 1: 1\\}              &           2 &               0.120997  \\\\\n",
      "              1 & \\{0: 1, 1: 1\\}              &           8 &               0.238923  \\\\\n",
      "              3 & \\{0: 1, 1: 1\\}              &           8 &               0.282813  \\\\\n",
      "              5 & \\{0: 1, 1: 1\\}              &           8 &               0.278918  \\\\\n",
      "             10 & \\{0: 1, 1: 1\\}              &           8 &               0.260724  \\\\\n",
      "             15 & \\{0: 1, 1: 1\\}              &           8 &               0.234547  \\\\\n",
      "             20 & \\{0: 1, 1: 1\\}              &           8 &               0.218439  \\\\\n",
      "             24 & \\{0: 1, 1: 1\\}              &           8 &               0.194304  \\\\\n",
      "              1 & \\{0: 1, 1: 1\\}              &          16 &               0.270869  \\\\\n",
      "              3 & \\{0: 1, 1: 1\\}              &          16 &               0.280996  \\\\\n",
      "              5 & \\{0: 1, 1: 1\\}              &          16 &               0.282989  \\\\\n",
      "             10 & \\{0: 1, 1: 1\\}              &          16 &               0.253256  \\\\\n",
      "             15 & \\{0: 1, 1: 1\\}              &          16 &               0.227387  \\\\\n",
      "             20 & \\{0: 1, 1: 1\\}              &          16 &               0.213122  \\\\\n",
      "             24 & \\{0: 1, 1: 1\\}              &          16 &               0.207744  \\\\\n",
      "              1 & \\{0: 1, 1: 2\\}              &           2 &               0.169868  \\\\\n",
      "              3 & \\{0: 1, 1: 2\\}              &           2 &               0.27472   \\\\\n",
      "              5 & \\{0: 1, 1: 2\\}              &           2 &               0.280035  \\\\\n",
      "             10 & \\{0: 1, 1: 2\\}              &           2 &               0.32936   \\\\\n",
      "             15 & \\{0: 1, 1: 2\\}              &           2 &               0.343938  \\\\\n",
      "             20 & \\{0: 1, 1: 2\\}              &           2 &               0.352756  \\\\\n",
      "             24 & \\{0: 1, 1: 2\\}              &           2 &               0.35418   \\\\\n",
      "              1 & \\{0: 1, 1: 2\\}              &           8 &               0.268942  \\\\\n",
      "              3 & \\{0: 1, 1: 2\\}              &           8 &               0.275875  \\\\\n",
      "              5 & \\{0: 1, 1: 2\\}              &           8 &               0.26392   \\\\\n",
      "             10 & \\{0: 1, 1: 2\\}              &           8 &               0.27989   \\\\\n",
      "             15 & \\{0: 1, 1: 2\\}              &           8 &               0.279237  \\\\\n",
      "             20 & \\{0: 1, 1: 2\\}              &           8 &               0.295776  \\\\\n",
      "             24 & \\{0: 1, 1: 2\\}              &           8 &               0.311887  \\\\\n",
      "              1 & \\{0: 1, 1: 2\\}              &          16 &               0.259295  \\\\\n",
      "              3 & \\{0: 1, 1: 2\\}              &          16 &               0.282634  \\\\\n",
      "              5 & \\{0: 1, 1: 2\\}              &          16 &               0.281068  \\\\\n",
      "             10 & \\{0: 1, 1: 2\\}              &          16 &               0.285555  \\\\\n",
      "             15 & \\{0: 1, 1: 2\\}              &          16 &               0.282456  \\\\\n",
      "             20 & \\{0: 1, 1: 2\\}              &          16 &               0.301173  \\\\\n",
      "             24 & \\{0: 1, 1: 2\\}              &          16 &               0.309663  \\\\\n",
      "              1 & \\{0: 1, 1: 5\\}              &           2 &               0.324614  \\\\\n",
      "              3 & \\{0: 1, 1: 5\\}              &           2 &               0.376725  \\\\\n",
      "              5 & \\{0: 1, 1: 5\\}              &           2 &               0.380175  \\\\\n",
      "             10 & \\{0: 1, 1: 5\\}              &           2 &               0.40747   \\\\\n",
      "             15 & \\{0: 1, 1: 5\\}              &           2 &               0.418131  \\\\\n",
      "             20 & \\{0: 1, 1: 5\\}              &           2 &               0.411994  \\\\\n",
      "             24 & \\{0: 1, 1: 5\\}              &           2 &               0.394084  \\\\\n",
      "              1 & \\{0: 1, 1: 5\\}              &           8 &               0.282852  \\\\\n",
      "              3 & \\{0: 1, 1: 5\\}              &           8 &               0.28901   \\\\\n",
      "              5 & \\{0: 1, 1: 5\\}              &           8 &               0.300995  \\\\\n",
      "             10 & \\{0: 1, 1: 5\\}              &           8 &               0.31224   \\\\\n",
      "             15 & \\{0: 1, 1: 5\\}              &           8 &               0.320118  \\\\\n",
      "             20 & \\{0: 1, 1: 5\\}              &           8 &               0.352957  \\\\\n",
      "             24 & \\{0: 1, 1: 5\\}              &           8 &               0.354679  \\\\\n",
      "              1 & \\{0: 1, 1: 5\\}              &          16 &               0.237607  \\\\\n",
      "              3 & \\{0: 1, 1: 5\\}              &          16 &               0.270461  \\\\\n",
      "              5 & \\{0: 1, 1: 5\\}              &          16 &               0.287902  \\\\\n",
      "             10 & \\{0: 1, 1: 5\\}              &          16 &               0.296937  \\\\\n",
      "             15 & \\{0: 1, 1: 5\\}              &          16 &               0.300171  \\\\\n",
      "             20 & \\{0: 1, 1: 5\\}              &          16 &               0.312271  \\\\\n",
      "             24 & \\{0: 1, 1: 5\\}              &          16 &               0.313763  \\\\\n",
      "\\hline\n",
      "\\end{tabular}\n"
     ]
    }
   ],
   "source": [
    "header = ['Max Features', 'Misclassification Costs','Max Depth','Mean Validation Score']\n",
    "rows = map(lambda x: x.parameters.values() + [x.mean_validation_score], grid_dtree.grid_scores_)\n",
    "print tabulate(rows, header, tablefmt='latex')"
   ]
  },
  {
   "cell_type": "markdown",
   "metadata": {},
   "source": [
    "### With BestFirstSearchWrapper Feature Selection"
   ]
  },
  {
   "cell_type": "code",
   "execution_count": 38,
   "metadata": {
    "collapsed": false
   },
   "outputs": [
    {
     "name": "stdout",
     "output_type": "stream",
     "text": [
      "New best score: -0.222222222222\n",
      "New best score: -0.322222222222\n",
      "New best score: -0.372222222222\n",
      "New best score: -0.388412698413\n",
      "New best score: -0.450634920635\n",
      "New best score: -0.465079365079\n",
      "New best score: -0.477777777778\n",
      "New best score: -0.51\n",
      "New best score: -0.372222222222\n",
      "New best score: -0.385714285714\n",
      "New best score: -0.399047619048\n",
      "New best score: -0.428412698413\n",
      "New best score: -0.478888888889\n",
      "New best score: -0.506666666667\n",
      "New best score: -0.244444444444\n",
      "New best score: -0.601111111111\n",
      "New best score: -0.298888888889\n",
      "New best score: -0.39\n",
      "New best score: -0.412222222222\n",
      "New best score: -0.474603174603\n",
      "New best score: -0.506666666667\n",
      "New best score: -0.53\n",
      "New best score: -0.557301587302\n",
      "New best score: -0.572857142857\n",
      "New best score: -0.584285714286\n",
      "New best score: -0.305079365079\n",
      "New best score: -0.362222222222\n",
      "New best score: -0.458888888889\n",
      "New best score: -0.47\n",
      "New best score: -0.544365079365\n",
      "New best score: -0.636031746032\n",
      "New best score: -0.326666666667\n",
      "New best score: -0.392222222222\n",
      "New best score: -0.432222222222\n",
      "New best score: -0.453333333333\n",
      "New best score: -0.48619047619\n",
      "New best score: -0.497301587302\n",
      "New best score: -0.513888888889\n",
      "New best score: -0.538412698413\n",
      "New best score: -0.308968253968\n",
      "New best score: -0.348888888889\n",
      "New best score: -0.417777777778\n",
      "New best score: -0.445555555556\n",
      "New best score: -0.495555555556\n",
      "New best score: -0.513333333333\n",
      "New best score: -0.538888888889\n",
      "New best score: -0.564444444444\n",
      "New best score: -0.578888888889\n",
      "New best score: -0.596666666667\n"
     ]
    },
    {
     "name": "stderr",
     "output_type": "stream",
     "text": [
      "/Library/Python/2.7/site-packages/sklearn/metrics/classification.py:960: UndefinedMetricWarning: Precision is ill-defined and being set to 0.0 due to no predicted samples.\n",
      "  'precision', 'predicted', average, warn_for)\n"
     ]
    }
   ],
   "source": [
    "parameters = {'dtree__estimator__max_depth':[2,8,16],\n",
    "              'dtree__estimator__class_weight':[{0:1,1:1},{0:1,1:2},{0:1,1:5}]}\n",
    "dtree_pipeline = Pipeline([\n",
    "    ('scaler', SigmoidMinMaxScaler()),\n",
    "    ('dtree', BestFirstSearchWrapper(DecisionTreeClassifier(), \n",
    "                                     scoring='f1',\n",
    "                                    cv=StratifiedShuffleSplit(labels,n_iter=30,random_state=42)))\n",
    "    ])\n",
    "dtree_bfs_results = bfs_test(dtree_pipeline, parameters)\n"
   ]
  },
  {
   "cell_type": "code",
   "execution_count": 39,
   "metadata": {
    "collapsed": false
   },
   "outputs": [
    {
     "name": "stdout",
     "output_type": "stream",
     "text": [
      "0.490282539683\n",
      "['poi', 'prop_to_poi', 'expenses']\n"
     ]
    }
   ],
   "source": [
    "s,_,pline,_ = sorted(dtree_bfs_results, reverse=True)[0]\n",
    "print s\n",
    "wrapper = pline.named_steps['dtree']\n",
    "knnmodel = wrapper.estimator\n",
    "\n",
    "fnames = ['poi']+list(np.array(feature_names[1:])[list(wrapper.best_subset)])\n",
    "print fnames"
   ]
  },
  {
   "cell_type": "code",
   "execution_count": 40,
   "metadata": {
    "collapsed": false
   },
   "outputs": [
    {
     "name": "stdout",
     "output_type": "stream",
     "text": [
      "Pipeline(steps=[('scaler', SigmoidMinMaxScaler(copy=True, feature_range=(0, 1))), ('dtree', DecisionTreeClassifier(class_weight={0: 1, 1: 5}, criterion='gini',\n",
      "            max_depth=2, max_features=None, max_leaf_nodes=None,\n",
      "            min_samples_leaf=1, min_samples_split=2,\n",
      "            min_weight_fraction_leaf=0.0, random_state=None,\n",
      "            splitter='best'))])\n",
      "\tAccuracy: 0.86400\tPrecision: 0.49283\tRecall: 0.68700\tF1: 0.57393\tF2: 0.63682\n",
      "\tTotal predictions: 15000\tTrue positives: 1374\tFalse positives: 1414\tFalse negatives:  626\tTrue negatives: 11586\n",
      "\n"
     ]
    }
   ],
   "source": [
    "clf = Pipeline([('scaler',SigmoidMinMaxScaler()), ('dtree', knnmodel)])\n",
    "test_classifier(clf, my_dataset, fnames, folds = 1000)"
   ]
  },
  {
   "cell_type": "code",
   "execution_count": 41,
   "metadata": {
    "collapsed": false
   },
   "outputs": [
    {
     "name": "stdout",
     "output_type": "stream",
     "text": [
      "\\begin{tabular}{lrrrr}\n",
      "\\hline\n",
      " Misclassification Costs   &   Max Depth &   Length of best Subset &   Mean F1 &   Std. F1 \\\\\n",
      "\\hline\n",
      " \\{0: 1, 1: 1\\}              &           2 &                       2 &  0.277333 &  0.295668 \\\\\n",
      " \\{0: 1, 1: 1\\}              &           8 &                       7 &  0.343117 &  0.283406 \\\\\n",
      " \\{0: 1, 1: 1\\}              &          16 &                       8 &  0.302244 &  0.28239  \\\\\n",
      " \\{0: 1, 1: 2\\}              &           2 &                       2 &  0.474817 &  0.277713 \\\\\n",
      " \\{0: 1, 1: 2\\}              &           8 &                       9 &  0.36997  &  0.273104 \\\\\n",
      " \\{0: 1, 1: 2\\}              &          16 &                       4 &  0.323233 &  0.300483 \\\\\n",
      " \\{0: 1, 1: 5\\}              &           2 &                       2 &  0.490283 &  0.246631 \\\\\n",
      " \\{0: 1, 1: 5\\}              &           8 &                      10 &  0.379067 &  0.274403 \\\\\n",
      " \\{0: 1, 1: 5\\}              &          16 &                       8 &  0.441213 &  0.31671  \\\\\n",
      "\\hline\n",
      "\\end{tabular}\n"
     ]
    }
   ],
   "source": [
    "\n",
    "headers = ['Misclassification Costs','Max Depth','Length of best Subset','Mean F1', 'Std. F1']\n",
    "rows = map(lambda (m,par,wr,sc): par.values() + [len(wr.named_steps['dtree'].best_subset), m, sc.std()], dtree_bfs_results)\n",
    "print tabulate(rows, headers, tablefmt='latex')"
   ]
  },
  {
   "cell_type": "code",
   "execution_count": 42,
   "metadata": {
    "collapsed": false
   },
   "outputs": [
    {
     "data": {
      "image/png": "[encoded data removed]",
      "text/plain": [
       "<matplotlib.figure.Figure at 0x10680fd10>"
      ]
     },
     "metadata": {},
     "output_type": "display_data"
    }
   ],
   "source": [
    "ms,params,_,scores = zip(*filter(lambda x: x[1]['dtree__estimator__class_weight'][1]==1, dtree_bfs_results))\n",
    "boxplot_labels = map(lambda x: x['dtree__estimator__max_depth'], params)\n",
    "boxplot_with_labels(scores, boxplot_labels, usermedians=ms)"
   ]
  },
  {
   "cell_type": "code",
   "execution_count": 43,
   "metadata": {
    "collapsed": false
   },
   "outputs": [
    {
     "data": {
      "image/png": "[encoded data removed]",
      "text/plain": [
       "<matplotlib.figure.Figure at 0x10813a6d0>"
      ]
     },
     "metadata": {},
     "output_type": "display_data"
    }
   ],
   "source": [
    "ms,params,_,scores = zip(*filter(lambda x: x[1]['dtree__estimator__class_weight'][1]==2, dtree_bfs_results))\n",
    "boxplot_labels = map(lambda x: x['dtree__estimator__max_depth'], params)\n",
    "boxplot_with_labels(scores, boxplot_labels, usermedians=ms)"
   ]
  },
  {
   "cell_type": "code",
   "execution_count": 44,
   "metadata": {
    "collapsed": false
   },
   "outputs": [
    {
     "data": {
      "image/png": "[encoded data removed]",
      "text/plain": [
       "<matplotlib.figure.Figure at 0x106afea10>"
      ]
     },
     "metadata": {},
     "output_type": "display_data"
    }
   ],
   "source": [
    "ms,params,_,scores = zip(*filter(lambda x: x[1]['dtree__estimator__class_weight'][1]==5, dtree_bfs_results))\n",
    "boxplot_labels = map(lambda x: x['dtree__estimator__max_depth'], params)\n",
    "boxplot_with_labels(scores, boxplot_labels, usermedians=ms)"
   ]
  },
  {
   "cell_type": "code",
   "execution_count": 45,
   "metadata": {
    "collapsed": false
   },
   "outputs": [],
   "source": [
    "mclf = clf.fit(np.array(features)[:,list(wrapper.best_subset)], labels)"
   ]
  },
  {
   "cell_type": "code",
   "execution_count": 46,
   "metadata": {
    "collapsed": false
   },
   "outputs": [],
   "source": [
    "from sklearn.externals.six import StringIO  \n",
    "import pydot \n",
    "from sklearn.tree import export_graphviz\n",
    "\n",
    "dot_data = StringIO() \n",
    "export_graphviz(mclf.named_steps['dtree'], out_file=dot_data, feature_names=fnames[1:]) \n",
    "graph = pydot.graph_from_dot_data(dot_data.getvalue()) "
   ]
  },
  {
   "cell_type": "code",
   "execution_count": 47,
   "metadata": {
    "collapsed": true
   },
   "outputs": [],
   "source": [
    "from IPython.display import Image"
   ]
  },
  {
   "cell_type": "code",
   "execution_count": 48,
   "metadata": {
    "collapsed": false
   },
   "outputs": [
    {
     "data": {
      "image/png": "[encoded data removed]",
      "text/plain": [
       "<IPython.core.display.Image object>"
      ]
     },
     "execution_count": 48,
     "metadata": {},
     "output_type": "execute_result"
    }
   ],
   "source": [
    "Image(graph.create_png())"
   ]
  },
  {
   "cell_type": "code",
   "execution_count": 49,
   "metadata": {
    "collapsed": false
   },
   "outputs": [
    {
     "data": {
      "text/plain": [
       "<matplotlib.collections.PathCollection at 0x106f96190>"
      ]
     },
     "execution_count": 49,
     "metadata": {},
     "output_type": "execute_result"
    },
    {
     "data": {
      "image/png": "[encoded data removed]",
      "text/plain": [
       "<matplotlib.figure.Figure at 0x106e9df50>"
      ]
     },
     "metadata": {},
     "output_type": "display_data"
    }
   ],
   "source": [
    "neg = np.array(features)[np.array(labels)==0,:][:,list(wrapper.best_subset)]\n",
    "pos = np.array(features)[np.array(labels)==1,:][:,list(wrapper.best_subset)]\n",
    "plt.scatter(*neg.transpose(), color='b')\n",
    "plt.scatter(*pos.transpose(), color='r')"
   ]
  },
  {
   "cell_type": "code",
   "execution_count": 50,
   "metadata": {
    "collapsed": true
   },
   "outputs": [],
   "source": [
    "from sklearn.tree import DecisionTreeClassifier"
   ]
  },
  {
   "cell_type": "code",
   "execution_count": 51,
   "metadata": {
    "collapsed": false
   },
   "outputs": [
    {
     "data": {
      "text/plain": [
       "(126, 2)"
      ]
     },
     "execution_count": 51,
     "metadata": {},
     "output_type": "execute_result"
    }
   ],
   "source": [
    "neg.shape"
   ]
  },
  {
   "cell_type": "code",
   "execution_count": null,
   "metadata": {
    "collapsed": true
   },
   "outputs": [],
   "source": []
  }
 ],
 "metadata": {
  "kernelspec": {
   "display_name": "Python 2",
   "language": "python",
   "name": "python2"
  },
  "language_info": {
   "codemirror_mode": {
    "name": "ipython",
    "version": 2
   },
   "file_extension": ".py",
   "mimetype": "text/x-python",
   "name": "python",
   "nbconvert_exporter": "python",
   "pygments_lexer": "ipython2",
   "version": "2.7.10"
  }
 },
 "nbformat": 4,
 "nbformat_minor": 0
}
