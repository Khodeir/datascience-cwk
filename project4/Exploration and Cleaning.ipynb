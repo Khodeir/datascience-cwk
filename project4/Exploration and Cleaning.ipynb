{
 "cells": [
  {
   "cell_type": "code",
   "execution_count": 2,
   "metadata": {
    "collapsed": true
   },
   "outputs": [],
   "source": [
    "import pprint\n",
    "import sys\n",
    "import numpy as np\n",
    "import pickle\n",
    "sys.path.append(\"../tools/\")\n",
    "from feature_format import featureFormat, targetFeatureSplit\n"
   ]
  },
  {
   "cell_type": "code",
   "execution_count": 19,
   "metadata": {
    "collapsed": false
   },
   "outputs": [],
   "source": [
    " ### Load the dictionary containing the dataset\n",
    "data_dict = pickle.load(open(\"final_project_dataset.pkl\", \"r\") )\n",
    "feature_names = ['poi','salary',\n",
    " 'to_messages',\n",
    " 'deferral_payments',\n",
    " 'total_payments',\n",
    " 'exercised_stock_options',\n",
    " 'bonus',\n",
    " 'director_fees',\n",
    " 'restricted_stock_deferred',\n",
    " 'total_stock_value',\n",
    " 'expenses',\n",
    " 'from_poi_to_this_person',\n",
    " 'loan_advances',\n",
    " 'from_messages',\n",
    " 'other',\n",
    " 'from_this_person_to_poi',\n",
    " 'deferred_income',\n",
    " 'shared_receipt_with_poi',\n",
    " 'restricted_stock',\n",
    " 'long_term_incentive']\n",
    "data = featureFormat(data_dict, feature_names, sort_keys = True)"
   ]
  },
  {
   "cell_type": "code",
   "execution_count": 20,
   "metadata": {
    "collapsed": false
   },
   "outputs": [
    {
     "name": "stdout",
     "output_type": "stream",
     "text": [
      "['deferral_payments' 'restricted_stock_deferred' 'total_stock_value'\n",
      " 'restricted_stock']\n",
      "[ 1 16  1  1] neg\n",
      "[ 38   2 125 109] pos\n"
     ]
    }
   ],
   "source": [
    "print np.array(feature_names)[np.any(data < 0, 0) & np.any(data > 0, 0)]\n",
    "problematic_mask = np.any(data < 0, 0) & np.any(data > 0, 0)\n",
    "problematic_index = problematic_mask.nonzero()[0]\n",
    "print np.sum(data[:,problematic_mask] < 0,0), 'neg'\n",
    "print np.sum(data[:,problematic_mask] > 0,0), 'pos'"
   ]
  },
  {
   "cell_type": "code",
   "execution_count": 22,
   "metadata": {
    "collapsed": false
   },
   "outputs": [
    {
     "name": "stdout",
     "output_type": "stream",
     "text": [
      "['BELFER ROBERT']\n",
      "['BHATNAGAR SANJAY']\n",
      "['BELFER ROBERT']\n",
      "['BELFER ROBERT', 'BHATNAGAR SANJAY']\n"
     ]
    }
   ],
   "source": [
    "print filter(lambda x: data_dict[x]['deferral_payments'] < 0, data_dict)\n",
    "print filter(lambda x: data_dict[x]['restricted_stock'] < 0, data_dict)\n",
    "print filter(lambda x: data_dict[x]['total_stock_value'] < 0, data_dict)\n",
    "print filter(lambda x: data_dict[x]['restricted_stock_deferred'] != 'NaN' and data_dict[x]['restricted_stock_deferred'] > 0, data_dict)"
   ]
  },
  {
   "cell_type": "code",
   "execution_count": 10,
   "metadata": {
    "collapsed": false
   },
   "outputs": [
    {
     "name": "stdout",
     "output_type": "stream",
     "text": [
      "['KAMINSKI WINCENTY J']\n",
      "['LAY KENNETH L', 'SKILLING JEFFREY K', 'TOTAL', 'FREVERT MARK A']\n",
      "['LAY KENNETH L', 'TOTAL', 'HIRKO JOSEPH']\n",
      "['LAVORATO JOHN J']\n",
      "['SHAPIRO RICHARD S', 'KEAN STEVEN J']\n",
      "['DELAINEY DAVID W']\n",
      "['HANNON KEVIN P', 'RICE KENNETH D', 'TOTAL', 'ALLEN PHILLIP K', 'FREVERT MARK A']\n"
     ]
    }
   ],
   "source": [
    "print filter(lambda x: data_dict[x]['from_messages'] != 'NaN' and data_dict[x]['from_messages'] > 14360,data_dict)\n",
    "print filter(lambda x: data_dict[x]['salary'] != 'NaN' and data_dict[x]['salary'] > 1000000,data_dict)\n",
    "print filter(lambda x: data_dict[x]['exercised_stock_options'] != 'NaN' and data_dict[x]['exercised_stock_options'] > 30000000,data_dict)\n",
    "print filter(lambda x: data_dict[x]['from_poi_to_this_person'] != 'NaN' and data_dict[x]['from_poi_to_this_person'] > 500,data_dict)\n",
    "print filter(lambda x: data_dict[x]['to_messages'] != 'NaN' and data_dict[x]['to_messages'] > 10000,data_dict)\n",
    "print filter(lambda x: data_dict[x]['from_this_person_to_poi'] != 'NaN' and data_dict[x]['from_this_person_to_poi'] > 600,data_dict)\n",
    "print filter(lambda x: data_dict[x]['deferred_income'] != 'NaN' and data_dict[x]['deferred_income'] < -3000000,data_dict)"
   ]
  },
  {
   "cell_type": "code",
   "execution_count": null,
   "metadata": {
    "collapsed": true
   },
   "outputs": [],
   "source": []
  },
  {
   "cell_type": "code",
   "execution_count": 13,
   "metadata": {
    "collapsed": false
   },
   "outputs": [
    {
     "data": {
      "text/plain": [
       "{'bonus': 97343619,\n",
       " 'deferral_payments': 32083396,\n",
       " 'deferred_income': -27992891,\n",
       " 'director_fees': 1398517,\n",
       " 'email_address': 'NaN',\n",
       " 'exercised_stock_options': 311764000,\n",
       " 'expenses': 5235198,\n",
       " 'from_messages': 'NaN',\n",
       " 'from_poi_to_this_person': 'NaN',\n",
       " 'from_this_person_to_poi': 'NaN',\n",
       " 'loan_advances': 83925000,\n",
       " 'long_term_incentive': 48521928,\n",
       " 'other': 42667589,\n",
       " 'poi': False,\n",
       " 'restricted_stock': 130322299,\n",
       " 'restricted_stock_deferred': -7576788,\n",
       " 'salary': 26704229,\n",
       " 'shared_receipt_with_poi': 'NaN',\n",
       " 'to_messages': 'NaN',\n",
       " 'total_payments': 309886585,\n",
       " 'total_stock_value': 434509511}"
      ]
     },
     "execution_count": 13,
     "metadata": {},
     "output_type": "execute_result"
    }
   ],
   "source": [
    "data_dict['TOTAL']"
   ]
  },
  {
   "cell_type": "code",
   "execution_count": 14,
   "metadata": {
    "collapsed": false
   },
   "outputs": [
    {
     "data": {
      "text/plain": [
       "{'bonus': 'NaN',\n",
       " 'deferral_payments': -102500,\n",
       " 'deferred_income': 'NaN',\n",
       " 'director_fees': 3285,\n",
       " 'email_address': 'NaN',\n",
       " 'exercised_stock_options': 3285,\n",
       " 'expenses': 'NaN',\n",
       " 'from_messages': 'NaN',\n",
       " 'from_poi_to_this_person': 'NaN',\n",
       " 'from_this_person_to_poi': 'NaN',\n",
       " 'loan_advances': 'NaN',\n",
       " 'long_term_incentive': 'NaN',\n",
       " 'other': 'NaN',\n",
       " 'poi': False,\n",
       " 'restricted_stock': 'NaN',\n",
       " 'restricted_stock_deferred': 44093,\n",
       " 'salary': 'NaN',\n",
       " 'shared_receipt_with_poi': 'NaN',\n",
       " 'to_messages': 'NaN',\n",
       " 'total_payments': 102500,\n",
       " 'total_stock_value': -44093}"
      ]
     },
     "execution_count": 14,
     "metadata": {},
     "output_type": "execute_result"
    }
   ],
   "source": [
    "data_dict['BELFER ROBERT']"
   ]
  },
  {
   "cell_type": "code",
   "execution_count": 15,
   "metadata": {
    "collapsed": false
   },
   "outputs": [
    {
     "data": {
      "text/plain": [
       "{'bonus': 'NaN',\n",
       " 'deferral_payments': 10259,\n",
       " 'deferred_income': 'NaN',\n",
       " 'director_fees': 'NaN',\n",
       " 'email_address': 'joe.hirko@enron.com',\n",
       " 'exercised_stock_options': 30766064,\n",
       " 'expenses': 77978,\n",
       " 'from_messages': 'NaN',\n",
       " 'from_poi_to_this_person': 'NaN',\n",
       " 'from_this_person_to_poi': 'NaN',\n",
       " 'loan_advances': 'NaN',\n",
       " 'long_term_incentive': 'NaN',\n",
       " 'other': 2856,\n",
       " 'poi': True,\n",
       " 'restricted_stock': 'NaN',\n",
       " 'restricted_stock_deferred': 'NaN',\n",
       " 'salary': 'NaN',\n",
       " 'shared_receipt_with_poi': 'NaN',\n",
       " 'to_messages': 'NaN',\n",
       " 'total_payments': 91093,\n",
       " 'total_stock_value': 30766064}"
      ]
     },
     "execution_count": 15,
     "metadata": {},
     "output_type": "execute_result"
    }
   ],
   "source": [
    "data_dict['HIRKO JOSEPH']"
   ]
  },
  {
   "cell_type": "code",
   "execution_count": 16,
   "metadata": {
    "collapsed": false
   },
   "outputs": [
    {
     "data": {
      "text/plain": [
       "{'bonus': 3000000,\n",
       " 'deferral_payments': 'NaN',\n",
       " 'deferred_income': 'NaN',\n",
       " 'director_fees': 'NaN',\n",
       " 'email_address': 'david.delainey@enron.com',\n",
       " 'exercised_stock_options': 2291113,\n",
       " 'expenses': 86174,\n",
       " 'from_messages': 3069,\n",
       " 'from_poi_to_this_person': 66,\n",
       " 'from_this_person_to_poi': 609,\n",
       " 'loan_advances': 'NaN',\n",
       " 'long_term_incentive': 1294981,\n",
       " 'other': 1661,\n",
       " 'poi': True,\n",
       " 'restricted_stock': 1323148,\n",
       " 'restricted_stock_deferred': 'NaN',\n",
       " 'salary': 365163,\n",
       " 'shared_receipt_with_poi': 2097,\n",
       " 'to_messages': 3093,\n",
       " 'total_payments': 4747979,\n",
       " 'total_stock_value': 3614261}"
      ]
     },
     "execution_count": 16,
     "metadata": {},
     "output_type": "execute_result"
    }
   ],
   "source": [
    "data_dict['DELAINEY DAVID W']"
   ]
  },
  {
   "cell_type": "code",
   "execution_count": 23,
   "metadata": {
    "collapsed": false
   },
   "outputs": [
    {
     "data": {
      "text/plain": [
       "{'bonus': 'NaN',\n",
       " 'deferral_payments': 'NaN',\n",
       " 'deferred_income': 'NaN',\n",
       " 'director_fees': 'NaN',\n",
       " 'email_address': 'NaN',\n",
       " 'exercised_stock_options': 'NaN',\n",
       " 'expenses': 'NaN',\n",
       " 'from_messages': 'NaN',\n",
       " 'from_poi_to_this_person': 'NaN',\n",
       " 'from_this_person_to_poi': 'NaN',\n",
       " 'loan_advances': 'NaN',\n",
       " 'long_term_incentive': 'NaN',\n",
       " 'other': 362096,\n",
       " 'poi': False,\n",
       " 'restricted_stock': 'NaN',\n",
       " 'restricted_stock_deferred': 'NaN',\n",
       " 'salary': 'NaN',\n",
       " 'shared_receipt_with_poi': 'NaN',\n",
       " 'to_messages': 'NaN',\n",
       " 'total_payments': 362096,\n",
       " 'total_stock_value': 'NaN'}"
      ]
     },
     "execution_count": 23,
     "metadata": {},
     "output_type": "execute_result"
    }
   ],
   "source": [
    "data_dict['THE TRAVEL AGENCY IN THE PARK']"
   ]
  },
  {
   "cell_type": "code",
   "execution_count": null,
   "metadata": {
    "collapsed": true
   },
   "outputs": [],
   "source": []
  }
 ],
 "metadata": {
  "kernelspec": {
   "display_name": "Python 2",
   "language": "python",
   "name": "python2"
  },
  "language_info": {
   "codemirror_mode": {
    "name": "ipython",
    "version": 2
   },
   "file_extension": ".py",
   "mimetype": "text/x-python",
   "name": "python",
   "nbconvert_exporter": "python",
   "pygments_lexer": "ipython2",
   "version": "2.7.6"
  }
 },
 "nbformat": 4,
 "nbformat_minor": 0
}
