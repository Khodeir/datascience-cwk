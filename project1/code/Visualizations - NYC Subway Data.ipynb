{
 "cells": [
  {
   "cell_type": "code",
   "execution_count": 1,
   "metadata": {
    "collapsed": false
   },
   "outputs": [],
   "source": [
    "%matplotlib inline\n",
    "import pandas"
   ]
  },
  {
   "cell_type": "code",
   "execution_count": 2,
   "metadata": {
    "collapsed": false
   },
   "outputs": [],
   "source": [
    "from ggplot import *\n"
   ]
  },
  {
   "cell_type": "code",
   "execution_count": 3,
   "metadata": {
    "collapsed": true
   },
   "outputs": [],
   "source": [
    "turnstile_weather = pandas.read_csv('improved-dataset/turnstile_weather_v2.csv')"
   ]
  },
  {
   "cell_type": "code",
   "execution_count": 4,
   "metadata": {
    "collapsed": false
   },
   "outputs": [],
   "source": [
    "totals = turnstile_weather.copy()\n",
    "d_rain = totals[totals['rain']==1].reset_index()\n",
    "d_norain = totals[totals['rain']==0].reset_index()\n",
    "# rain_by_time = d_rain.groupby('time').mean().reset_index()\n",
    "# norain_by_time = d_norain.groupby('time').mean().reset_index()"
   ]
  },
  {
   "cell_type": "code",
   "execution_count": 7,
   "metadata": {
    "collapsed": false
   },
   "outputs": [
    {
     "name": "stdout",
     "output_type": "stream",
     "text": [
      "<ggplot: (281820077)>\n"
     ]
    }
   ],
   "source": [
    "plot = ggplot(aes(x=\"ENTRIESn_hourly\"), data=d_norain) +\\\n",
    "            geom_histogram(color=\"red\", fill='red', alpha=0.5, binwidth=200) +\\\n",
    "            geom_histogram(color=\"blue\", fill='blue', alpha=0.5, data=d_rain, binwidth=200) +\\\n",
    "            ggtitle('Histogram of hourly entries for rainy (blue) and dry (red) times.')\n",
    "print plot\n"
   ]
  },
  {
   "cell_type": "code",
   "execution_count": 14,
   "metadata": {
    "collapsed": false
   },
   "outputs": [
    {
     "name": "stdout",
     "output_type": "stream",
     "text": [
      "<ggplot: (289536613)>\n"
     ]
    }
   ],
   "source": [
    "totals = turnstile_weather.copy()\n",
    "d_rain = totals[totals['rain']==1].reset_index()\n",
    "d_norain = totals[totals['rain']==0].reset_index()\n",
    "plot = ggplot(aes(x='ENTRIESn_hourly'), data=d_norain) + \\\n",
    "        geom_density(color='red', fill='red', alpha=0.5) + \\\n",
    "        geom_density(color='blue', fill='blue', alpha=0.5, data=d_rain) + \\\n",
    "        ggtitle('Density of hourly entries for rainy (blue) and dry (red) times.')\n",
    "\n",
    "print plot"
   ]
  },
  {
   "cell_type": "code",
   "execution_count": 16,
   "metadata": {
    "collapsed": false
   },
   "outputs": [
    {
     "name": "stdout",
     "output_type": "stream",
     "text": [
      "<ggplot: (280354297)>\n"
     ]
    }
   ],
   "source": [
    "# this plot shows the ridership for different units, for raining vs dry \n",
    "totals = turnstile_weather.copy()\n",
    "d_rain = totals[totals['rain']==1].groupby('UNIT',as_index=False)[\"ENTRIESn_hourly\"].mean()\n",
    "d_norain = totals[totals['rain']==0].groupby('UNIT',as_index=False)[\"ENTRIESn_hourly\"].mean()\n",
    "\n",
    "plot = ggplot(aes(x='UNIT',y='ENTRIESn_hourly'), data=d_rain) + \\\n",
    "        geom_bar(stat='identity', color='blue',fill='blue',alpha=0.5) + \\\n",
    "        geom_bar(stat='identity', color='red',fill='red',alpha=0.5, data=d_norain) + \\\n",
    "        ggtitle('Mean ridership per unit for rainy (blue) vs dry (red) times.') + \\\n",
    "        scale_x_discrete(labels=['' for i in range(240)])\n",
    "print plot\n"
   ]
  },
  {
   "cell_type": "code",
   "execution_count": 17,
   "metadata": {
    "collapsed": false
   },
   "outputs": [
    {
     "name": "stdout",
     "output_type": "stream",
     "text": [
      "<ggplot: (280398633)>\n"
     ]
    }
   ],
   "source": [
    "totals = turnstile_weather.copy()\n",
    "# bin temp into boxes of 2.5 degrees\n",
    "totals['meantempi'] = totals['meantempi'].map(lambda x: int(x) - int(x)%2.5 + 1.25)\n",
    "totals = totals.groupby(['meantempi','rain'], as_index=False)['ENTRIESn_hourly'].mean()\n",
    "d_rain = totals[totals['rain']==1].reset_index()\n",
    "d_norain = totals[totals['rain']==0].reset_index()\n",
    "\n",
    "plot = ggplot(aes(x='meantempi',y='ENTRIESn_hourly'), data=d_rain) + \\\n",
    "        geom_point(color='blue',alpha=0.5) + \\\n",
    "        geom_point(color='red',alpha=0.5, data=d_norain) + \\\n",
    "        ggtitle('Ridership vs mean temp for rainy (blue) vs dry (red) times.')\n",
    "print plot\n",
    "\n"
   ]
  }
 ],
 "metadata": {
  "kernelspec": {
   "display_name": "Python 2",
   "language": "python",
   "name": "python2"
  },
  "language_info": {
   "codemirror_mode": {
    "name": "ipython",
    "version": 2
   },
   "file_extension": ".py",
   "mimetype": "text/x-python",
   "name": "python",
   "nbconvert_exporter": "python",
   "pygments_lexer": "ipython2",
   "version": "2.7.6"
  }
 },
 "nbformat": 4,
 "nbformat_minor": 0
}
