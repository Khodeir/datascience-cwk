{
 "cells": [
  {
   "cell_type": "markdown",
   "metadata": {},
   "source": [
    "# OpenStreetMaps Data Wrangling with MongoDB"
   ]
  },
  {
   "cell_type": "code",
   "execution_count": 1,
   "metadata": {
    "collapsed": true
   },
   "outputs": [],
   "source": [
    "import pymongo, pprint\n",
    "cairo = pymongo.MongoClient()['osm']['cairo']"
   ]
  },
  {
   "cell_type": "markdown",
   "metadata": {},
   "source": [
    "## Problems in the data\n",
    "### Open/Closed Ways and Areas\n",
    "The OSM Wiki describes the different types of ways here: http://wiki.openstreetmap.org/wiki/Way\n",
    "\n",
    "The tag area='yes' is supposed to differentiate Ways that describe roads, or highways from those that describe a closed area such as a building, school or gas station. According to the Wiki, \"closed ways\" that dont specify the highway or barrier tags are considered to be areas. The original dataset has only 92 ways marked as areas, but many more that should be classified as areas. With the below query I classified 11,010 ways as areas and added the appropriate indicator field."
   ]
  },
  {
   "cell_type": "code",
   "execution_count": 2,
   "metadata": {
    "collapsed": false
   },
   "outputs": [
    {
     "data": {
      "text/plain": [
       "{u'n': 11010, u'nModified': 10956, u'ok': 1, 'updatedExisting': True}"
      ]
     },
     "execution_count": 2,
     "metadata": {},
     "output_type": "execute_result"
    }
   ],
   "source": [
    "# find all ways with the same first and last node_ref (closed ways)\n",
    "id_list = [x.get('_id') for x in cairo.aggregate([{'$match': {'type' : 'way'}},\n",
    "                {'$unwind' : '$node_refs'},\n",
    "                {'$group' : {'_id' : '$id',\n",
    "                             'first_ref' : {'$first' : '$node_refs'}, \n",
    "                             'last_ref' : {'$last' : '$node_refs'}}},\n",
    "                {'$project' : {'closed':{'$eq' : ['$first_ref', '$last_ref']}}},\n",
    "                {'$match' : {'closed' : True}}])]\n",
    "\n",
    "# update them to include area='yes'\n",
    "cairo.update({'type':'way',\n",
    "             'id':{'$in':id_list},\n",
    "             'barrier': {'$exists':0},\n",
    "             'highway': {'$exists':0}},\n",
    "            {'$set':{'area' : 'yes'}}, multi=True)"
   ]
  },
  {
   "cell_type": "markdown",
   "metadata": {},
   "source": [
    "### Underspecified address data\n",
    "A <b>remarkably low proportion</b> of the nodes have an associated address."
   ]
  },
  {
   "cell_type": "code",
   "execution_count": 3,
   "metadata": {
    "collapsed": false
   },
   "outputs": [
    {
     "name": "stdout",
     "output_type": "stream",
     "text": [
      "Nodes with address: 341\n",
      "Nodes with street address: 169\n"
     ]
    }
   ],
   "source": [
    "# number of nodes with address field\n",
    "print 'Nodes with address:', cairo.find({'type':'node','address':{'$exists':1}}).count()\n",
    "print 'Nodes with street address:', cairo.find({'type':'node','address.street':{'$exists':1}}).count()"
   ]
  },
  {
   "cell_type": "markdown",
   "metadata": {},
   "source": [
    "Only around 0.1% of nodes have any form of address data, and of those, only about half have specified streets. "
   ]
  },
  {
   "cell_type": "code",
   "execution_count": 4,
   "metadata": {
    "collapsed": false
   },
   "outputs": [
    {
     "name": "stdout",
     "output_type": "stream",
     "text": [
      "Ways with address: 1327\n",
      "Ways with street address: 1031\n"
     ]
    }
   ],
   "source": [
    "# number of ways with address field\n",
    "print 'Ways with address:', cairo.find({'type':'way','address':{'$exists':1}}).count()\n",
    "print 'Ways with street address:', cairo.find({'type':'way','address.street':{'$exists':1}}).count()"
   ]
  },
  {
   "cell_type": "markdown",
   "metadata": {},
   "source": [
    "A larger proportion (about 2.9%) of ways have some address info, and most of those that do have specified streets. The values of way.address.street are presumably the street names which define the corresponding way elements. However, that information would be more appropriate on the \"name\" field of that element.\n",
    "\n",
    "This is an opportunity to add \"name\" values to those ways that have specified streets, but no name.\n",
    "\n",
    "The redundancy can also form a consistency check for those ways with both fields specified. However, there is only one such way element after discounting 'area' ways."
   ]
  },
  {
   "cell_type": "code",
   "execution_count": 5,
   "metadata": {
    "collapsed": false
   },
   "outputs": [
    {
     "name": "stdout",
     "output_type": "stream",
     "text": [
      "Ways with both name and street address: 1\n",
      "Ways with street address but no name: 62\n"
     ]
    }
   ],
   "source": [
    "num_name_and_address =  cairo.find({'type':'way',\n",
    "                                    'area':{'$ne':'yes'},\n",
    "                                    'name':{'$exists':1},\n",
    "                                    'address.street':{'$exists':1}}).count()\n",
    "num_no_name_and_address =  cairo.find({'type':'way',\n",
    "                                       'area':{'$ne':'yes'},\n",
    "                                       'name':{'$exists':0},\n",
    "                                       'address.street':{'$exists':1}}).count()\n",
    "print 'Ways with both name and street address:', num_name_and_address\n",
    "print 'Ways with street address but no name:', num_no_name_and_address"
   ]
  },
  {
   "cell_type": "code",
   "execution_count": 6,
   "metadata": {
    "collapsed": false
   },
   "outputs": [
    {
     "data": {
      "text/plain": [
       "{u'n': 62, u'nModified': 62, u'ok': 1, 'updatedExisting': True}"
      ]
     },
     "execution_count": 6,
     "metadata": {},
     "output_type": "execute_result"
    }
   ],
   "source": [
    "# use way.address.street as way.name\n",
    "cairo.update({'type':'way','area':{'$ne':'yes'}, \n",
    "              'name':{'$exists':0},'address.street':{'$exists':1}}, \n",
    "             {'$set':{'$address.street':'$name'}},multi=True)"
   ]
  },
  {
   "cell_type": "markdown",
   "metadata": {},
   "source": [
    "Interestingly, \"name\" is a much more commonly occuring tag for both nodes and ways. This might suggest a different usage pattern for Cairo OSM (i.e. that of using nearby named nodes/ways to locate destinations rather than their explicit address.) Named elements account for around 0.84% of all nodes and 22.59% of ways."
   ]
  },
  {
   "cell_type": "code",
   "execution_count": 7,
   "metadata": {
    "collapsed": false
   },
   "outputs": [
    {
     "name": "stdout",
     "output_type": "stream",
     "text": [
      "Nodes with a name: 2766\n",
      "Ways with a name: 10203\n"
     ]
    }
   ],
   "source": [
    "print 'Nodes with a name:', cairo.find({'type':'node','name':{'$exists':1}}).count()\n",
    "print 'Ways with a name:', cairo.find({'type':'way','name':{'$exists':1}}).count()"
   ]
  },
  {
   "cell_type": "markdown",
   "metadata": {},
   "source": [
    "This suggests that the \"address.street\" field of nodes which define ways (via node_refs) should take the \"name\" value of the ways they define.\n",
    "\n",
    "This can be another data consistency check as well as a method of filling in the missing values."
   ]
  },
  {
   "cell_type": "code",
   "execution_count": 8,
   "metadata": {
    "collapsed": false
   },
   "outputs": [
    {
     "name": "stdout",
     "output_type": "stream",
     "text": [
      "Nodes whose street address might be filled in from \"parent\" way: 52377\n",
      "Nodes whose street address can be checked for consistency against way names: 2\n"
     ]
    }
   ],
   "source": [
    "# get the nodes that are part of named ways\n",
    "node_list = cairo.find({'type':'way','area':{'$ne':'yes'},'name':{'$exists':1}}).distinct('node_refs')\n",
    "\n",
    "# count incomplete nodes\n",
    "num_incomplete = cairo.find({'type':'node', \n",
    "                  'address.street' : {'$exists' : 0},\n",
    "                  'id' : {'$in' : node_list}}).count()\n",
    "# count nodes with both a street address and way name\n",
    "num_complete = cairo.find({'type':'node', \n",
    "                  'address.street' : {'$exists' : 1},\n",
    "                  'id' : {'$in' : node_list}}).count()\n",
    "\n",
    "print 'Nodes whose street address might be filled in from \"parent\" way:', num_incomplete\n",
    "print 'Nodes whose street address can be checked for consistency against way names:', num_complete"
   ]
  },
  {
   "cell_type": "markdown",
   "metadata": {},
   "source": [
    "According to this, we can add a significant number of street addresses to nodes in this way. However, since some ways describe areas and simple polygons instead of streets (as mentioned above), we should take care to exclude those from this treatment. Furthermore, some nodes are part of multiple ways, so we may need to consider those separately.\n",
    "\n",
    "As we can see, there is not much use in a consistency check given that only 5 nodes have both fields. However, this (and any other) consistency check would be made much harder by the next problem I will discuss."
   ]
  },
  {
   "cell_type": "code",
   "execution_count": 9,
   "metadata": {
    "collapsed": false
   },
   "outputs": [
    {
     "name": "stdout",
     "output_type": "stream",
     "text": [
      "37908  nodes to be updated.\n"
     ]
    }
   ],
   "source": [
    "## USE WAY NAMES IN CONSTITUENT NODE_REFS' ADDRESS ## \n",
    "# pipeline finds nodes that are part of named ways \n",
    "pipeline = [{'$match' : {'type':'way', \n",
    "                       'area' : {'$ne':'yes'}, # ignore ways that define an area\n",
    "                       'name':{'$exists':1}}},\n",
    "          {'$unwind' : '$node_refs'},\n",
    "          {'$group' : {'_id' : '$node_refs', \n",
    "                       'ways': {'$addToSet' : '$name'}, \n",
    "                       'count' : {'$sum' : 1}}},\n",
    "          {'$match' : {'count':1}} ] # makes sure to ignore nodes that appear on more than one way\n",
    "\n",
    "# create a dict mapping node ids to way names\n",
    "node_ref_to_way_name = {x.get('_id') : x.get('ways')[0] for x in cairo.aggregate(pipeline)}\n",
    "\n",
    "incomplete_nodes = cairo.find({'type':'node',\n",
    "                               'address.street':{'$exists':0},\n",
    "                               'id':{'$in':node_ref_to_way_name.keys()}})\n",
    "\n",
    "print incomplete_nodes.count(), ' nodes to be updated.'\n",
    "ignored  = []\n",
    "# update incomplete nodes one by one\n",
    "for node in incomplete_nodes:\n",
    "    new_street_address = node_ref_to_way_name[node.get('id')]\n",
    "    if isinstance(new_street_address, dict): # name field might be a dict\n",
    "        try:\n",
    "            new_street_address = new_street_address.get('',False) or\\\n",
    "                             new_street_address.get('ar',False) or\\\n",
    "                             new_street_address['en']\n",
    "        except:\n",
    "            ignored.append(new_street_address)\n",
    "            continue\n",
    "    cairo.update_one({'_id':node['_id']},{'$set':{'address.street' : new_street_address} })\n",
    "    "
   ]
  },
  {
   "cell_type": "code",
   "execution_count": 10,
   "metadata": {
    "collapsed": false
   },
   "outputs": [
    {
     "name": "stdout",
     "output_type": "stream",
     "text": [
      "Nodes whose street address remains to be filled in from \"parent\" way: 14485\n"
     ]
    }
   ],
   "source": [
    "# count incomplete nodes\n",
    "num_incomplete = cairo.find({'type':'node', \n",
    "                  'address.street' : {'$exists' : 0},\n",
    "                  'id' : {'$in' : node_list}}).count()\n",
    "print 'Nodes whose street address remains to be filled in from \"parent\" way:', num_incomplete"
   ]
  },
  {
   "cell_type": "markdown",
   "metadata": {},
   "source": [
    "### Mixture of English and Arabic\n",
    "\n",
    "The textual fields (i.e. city, street, housename) in the data are inconsistently spelled, evenly split between their true Arabic spelling and loosely corresponding English transliterations (e.g. \"Giza\", \"Gizeh\", \"الجيزة\").\n",
    "\n",
    "This, I would say, is the main problem with the Cairo OSM data. Any cleaning effort would first need to standardize the lanugage (or at least the alphabet) in which the data is represented.\n",
    "\n",
    "Since there is no \"gold standard\" for transliterating between Arabic and English, there seems to be no obvious way of standardizing the data. \n",
    "\n",
    "One possible solution I considered was to use Google Input Tools' transliteration API. This would allow me to convert all the English transliterations into Arabic letters, but not the reverse."
   ]
  },
  {
   "cell_type": "markdown",
   "metadata": {},
   "source": [
    "### Inconsistencies with Arabic street names in nodes\n",
    "* One common inconsistency is that of including or excluding the street type as in (e.g. \"الهرم\", \"شارع الهرم\") in which case the street type is \"شارع\" (i.e. \"street\").\n",
    "* Another common inconsistency involves the inclusion or exclusion of the leading definite article \"ال\" as in (\"هرم\", \"الهرم\").\n",
    "\n",
    "These few regular inconsistencies were standardized programatically, but with such a small number of addresses, and the added complication of them being in two different languages, the effect was not considerable."
   ]
  },
  {
   "cell_type": "markdown",
   "metadata": {
    "collapsed": true
   },
   "source": [
    "## Data Overview"
   ]
  },
  {
   "cell_type": "markdown",
   "metadata": {},
   "source": [
    "### Size of Dataset"
   ]
  },
  {
   "cell_type": "code",
   "execution_count": 11,
   "metadata": {
    "collapsed": false
   },
   "outputs": [
    {
     "name": "stdout",
     "output_type": "stream",
     "text": [
      "-rw-r--r--@ 1 khodeir  staff    68M  7 Aug 11:09 data/cairo_egypt.osm\r\n",
      "-rw-rw-r--@ 1 khodeir  staff    80M 17 Aug 22:27 data/cairo_egypt.osm.json\r\n"
     ]
    }
   ],
   "source": [
    "ls -lh  data/cairo_egypt.osm*"
   ]
  },
  {
   "cell_type": "code",
   "execution_count": 12,
   "metadata": {
    "collapsed": false
   },
   "outputs": [
    {
     "name": "stdout",
     "output_type": "stream",
     "text": [
      "# of documents: 372746\n"
     ]
    }
   ],
   "source": [
    "num_docs = cairo.find().count()\n",
    "print '# of documents:', num_docs"
   ]
  },
  {
   "cell_type": "code",
   "execution_count": 13,
   "metadata": {
    "collapsed": false
   },
   "outputs": [
    {
     "name": "stdout",
     "output_type": "stream",
     "text": [
      "# of nodes: 327577\n"
     ]
    }
   ],
   "source": [
    "num_nodes = cairo.find({'type':'node'}).count()\n",
    "print '# of nodes:', num_nodes"
   ]
  },
  {
   "cell_type": "code",
   "execution_count": 14,
   "metadata": {
    "collapsed": false
   },
   "outputs": [
    {
     "name": "stdout",
     "output_type": "stream",
     "text": [
      "# of ways: 45160\n"
     ]
    }
   ],
   "source": [
    "num_ways = cairo.find({'type':'way'}).count()\n",
    "print '# of ways:', num_ways"
   ]
  },
  {
   "cell_type": "code",
   "execution_count": 15,
   "metadata": {
    "collapsed": false
   },
   "outputs": [
    {
     "name": "stdout",
     "output_type": "stream",
     "text": [
      "There are 531 unique users\n"
     ]
    }
   ],
   "source": [
    "# Number of unique contributers\n",
    "pipeline = [\n",
    "    {\n",
    "        '$group': {\n",
    "            '_id' : '$created.user',\n",
    "            'count' : {'$sum' : 1}\n",
    "        }\n",
    "    },\n",
    "    {\n",
    "        '$sort' : {\n",
    "            'count' : -1\n",
    "        }\n",
    "    },\n",
    "    {\n",
    "        '$group' : {'_id' : None, 'num_unique' : {'$sum' : 1}}\n",
    "    }\n",
    "           ]\n",
    "\n",
    "result = cairo.aggregate(pipeline)\n",
    "num_users = result.next().get('num_unique')\n",
    "print 'There are %d unique users'%num_users"
   ]
  },
  {
   "cell_type": "code",
   "execution_count": 16,
   "metadata": {
    "collapsed": false
   },
   "outputs": [
    {
     "name": "stdout",
     "output_type": "stream",
     "text": [
      "Top 20 users (3.77% of users) account for 81.63% of contributions\n"
     ]
    }
   ],
   "source": [
    "n = 20\n",
    "# Sum of contributions of top n users \n",
    "pipeline = [\n",
    "    {\n",
    "        '$group': {\n",
    "            '_id' : '$created.user',\n",
    "            'count' : {'$sum' : 1}\n",
    "        }\n",
    "    },\n",
    "    {\n",
    "        '$sort' : {\n",
    "            'count' : -1\n",
    "        }\n",
    "    },\n",
    "    {\n",
    "        '$limit' : n\n",
    "    },\n",
    "    {\n",
    "        '$group' : {'_id' : None, 'total' : {'$sum' : '$count'}}\n",
    "    }\n",
    "           ]\n",
    "\n",
    "result = cairo.aggregate(pipeline)\n",
    "sum_top_n = result.next().get('total')\n",
    "\n",
    "print '''Top %d users (%.2f%% of users) account for %.2f%% of contributions'''\\\n",
    "        % (n,100.*n/num_users,100.*sum_top_n/num_docs,)"
   ]
  },
  {
   "cell_type": "code",
   "execution_count": 17,
   "metadata": {
    "collapsed": false
   },
   "outputs": [
    {
     "name": "stdout",
     "output_type": "stream",
     "text": [
      "There are 98 users with only one contribution. This is 18.46% of all users.\n"
     ]
    }
   ],
   "source": [
    "# Users with only 1 post\n",
    "pipeline = [\n",
    "    {\n",
    "        '$group': {\n",
    "            '_id' : '$created.user',\n",
    "            'count' : {'$sum' : 1}\n",
    "        }\n",
    "    },\n",
    "    {\n",
    "        '$group' : {\n",
    "            '_id': '$count',\n",
    "            'num_users': {'$sum' : 1}\n",
    "        }\n",
    "    },\n",
    "    {\n",
    "        '$match' : {'_id' : 1}\n",
    "    },\n",
    "           ]\n",
    "\n",
    "result = cairo.aggregate(pipeline)\n",
    "num_users_one_post = result.next().get('num_users')\n",
    "\n",
    "print '''There are %d users with only one contribution. This is %.2f%% of all users.'''\\\n",
    "                        % (num_users_one_post,100.*num_users_one_post/num_users)"
   ]
  },
  {
   "cell_type": "code",
   "execution_count": 18,
   "metadata": {
    "collapsed": false
   },
   "outputs": [
    {
     "name": "stdout",
     "output_type": "stream",
     "text": [
      "[{u'_id': u'place_of_worship', u'count': 405},\n",
      " {u'_id': u'parking', u'count': 329},\n",
      " {u'_id': u'restaurant', u'count': 202},\n",
      " {u'_id': u'school', u'count': 176},\n",
      " {u'_id': u'cafe', u'count': 148},\n",
      " {u'_id': u'fuel', u'count': 142},\n",
      " {u'_id': u'hospital', u'count': 120},\n",
      " {u'_id': u'bank', u'count': 109},\n",
      " {u'_id': u'fast_food', u'count': 101},\n",
      " {u'_id': u'pharmacy', u'count': 84}]\n"
     ]
    }
   ],
   "source": [
    "# Top 10 amenities\n",
    "pipeline = [\n",
    "    {'$match': {'amenity':{'$exists':1}}},\n",
    "    {\n",
    "        '$group': {\n",
    "            '_id' : '$amenity',\n",
    "            'count' : {'$sum' : 1}\n",
    "        }\n",
    "    },\n",
    "    {\n",
    "        '$sort' : {\n",
    "            'count' : -1\n",
    "        }\n",
    "    },\n",
    "    {\n",
    "        '$limit' : 10\n",
    "    }\n",
    "\n",
    "           ]\n",
    "\n",
    "result = cairo.aggregate(pipeline)\n",
    "pprint.pprint(list(result))\n",
    "\n"
   ]
  },
  {
   "cell_type": "markdown",
   "metadata": {
    "collapsed": true
   },
   "source": [
    "## Conclusion\n",
    "\n",
    "As previously mentioned, the main problem with the Cairo OSM data is that of it being in a mixture of English and Arabic. I did not address this problem in this project, but it might be possible to use a transliteration API to convert from the English representations to their Arabic alphabet counterparts. However, the data should ideally be searchable using both alphabets, so it makes sense to input and store both representations (as is currently done with the name field.) It would help greatly if Cairo OSM users were to share a set of guidelines for formatting their data.\n",
    "\n",
    "As part of the data cleaning I did, roughly 38,000 nodes were updated with a street address value from named ways of which they were part. I deliberately ignored nodes that appeared in more than one way, such as those that would mark the intersection of two or more roads. This leaves around  14,500 nodes that can be updated, and can be the task of further data cleaning.\n",
    "\n",
    "Finally, it was very interesting to see that names were more common than address tags in the Cairo OSM dataset. I would also be interested in seeing how users access OSM data in Cairo as opposed to other cities. \n"
   ]
  }
 ],
 "metadata": {
  "kernelspec": {
   "display_name": "Python 2",
   "language": "python",
   "name": "python2"
  },
  "language_info": {
   "codemirror_mode": {
    "name": "ipython",
    "version": 2
   },
   "file_extension": ".py",
   "mimetype": "text/x-python",
   "name": "python",
   "nbconvert_exporter": "python",
   "pygments_lexer": "ipython2",
   "version": "2.7.6"
  }
 },
 "nbformat": 4,
 "nbformat_minor": 0
}
