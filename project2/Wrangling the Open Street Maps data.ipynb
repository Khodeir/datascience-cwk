{
 "cells": [
  {
   "cell_type": "markdown",
   "metadata": {},
   "source": [
    "# Auditing Cairo's OSM Data"
   ]
  },
  {
   "cell_type": "code",
   "execution_count": 1,
   "metadata": {
    "collapsed": false
   },
   "outputs": [],
   "source": [
    "from audit import XMLAuditor, myprint, clean_arabic_street"
   ]
  },
  {
   "cell_type": "code",
   "execution_count": 2,
   "metadata": {
    "collapsed": false
   },
   "outputs": [],
   "source": [
    "audit = XMLAuditor('data/cairo_egypt.osm')"
   ]
  },
  {
   "cell_type": "code",
   "execution_count": 3,
   "metadata": {
    "collapsed": false
   },
   "outputs": [
    {
     "name": "stdout",
     "output_type": "stream",
     "text": [
      "node 327582\n",
      "total 372880\n",
      "relation 133\n",
      "bounds 1\n",
      "way 45164\n",
      "\n"
     ]
    }
   ],
   "source": [
    "# Counting top-level elements\n",
    "myprint(audit.count('./').items())"
   ]
  },
  {
   "cell_type": "code",
   "execution_count": 4,
   "metadata": {
    "collapsed": false
   },
   "outputs": [
    {
     "name": "stdout",
     "output_type": "stream",
     "text": [
      "member 684\n",
      "nd 402980\n",
      "total 529054\n",
      "tag 125390\n",
      "\n"
     ]
    }
   ],
   "source": [
    "# Counting second-level elements\n",
    "myprint(audit.count('./*/').items())"
   ]
  },
  {
   "cell_type": "markdown",
   "metadata": {},
   "source": [
    "### Way Elements"
   ]
  },
  {
   "cell_type": "code",
   "execution_count": 18,
   "metadata": {
    "collapsed": false
   },
   "outputs": [
    {
     "name": "stdout",
     "output_type": "stream",
     "text": [
      "total 102396\n",
      "highway 32235\n",
      "name 10091\n",
      "oneway 9634\n",
      "name:en 8462\n",
      "name:ar 7598\n",
      "building 7126\n",
      "alt_name 5594\n",
      "landuse 1716\n",
      "source 1439\n",
      "note 1268\n",
      "addr:street 1031\n",
      "bridge 986\n",
      "amenity 977\n",
      "layer 914\n",
      "leisure 913\n",
      "waterway 801\n",
      "surface 739\n",
      "addr:housenumber 645\n",
      "addr:city 625\n",
      "created_by 583\n",
      "junction 526\n",
      "addr:country 492\n",
      "ref 434\n",
      "maxspeed 405\n",
      "lanes 402\n",
      "service 394\n",
      "barrier 369\n",
      "access 346\n",
      "tunnel 339\n",
      "historic 305\n",
      "foot 302\n",
      "power 252\n",
      "addr:postcode 246\n",
      "railway 227\n",
      "voltage 223\n",
      "religion 215\n",
      "man_made 201\n",
      "cables 181\n",
      "aeroway 171\n",
      "sport 166\n",
      "natural 161\n",
      "parking 112\n",
      "operator 105\n",
      "boat 93\n",
      "area 92\n",
      "building:levels 85\n",
      "shop 85\n",
      "denomination 81\n",
      "tourism 81\n",
      "name:fr 73\n",
      "addr:housename 70\n",
      "alt_name:en 67\n",
      "lit 66\n",
      "bicycle 65\n",
      "int_name 65\n",
      "wheelchair 62\n",
      "addr:interpolation 61\n",
      "military 54\n",
      "wikipedia 52\n",
      "embankment 50\n",
      "name:de 50\n",
      "name:es 50\n",
      "horse 46\n",
      "int_ref 45\n",
      "place 44\n",
      "website 44\n",
      "motor_vehicle 41\n",
      "capacity 34\n",
      "fee 33\n",
      "location 32\n",
      "substation 30\n",
      "office 28\n",
      "electrified 25\n",
      "name:ru 25\n",
      "product 25\n",
      "gauge 23\n",
      "phone 21\n",
      "emergency 20\n",
      "atm 16\n",
      "toll 16\n",
      "name:pl 14\n",
      "construction 13\n",
      "name:ar1 13\n",
      "supervised 13\n",
      "frequency 12\n",
      "boundary 11\n",
      "roof:shape 11\n",
      "sidewalk 11\n",
      "water 11\n",
      "width 11\n",
      "alt_name:ar 10\n",
      "cycleway 10\n",
      "historic:civilization 10\n",
      "country 9\n",
      "diplomatic 9\n",
      "history 9\n",
      "name:it 9\n",
      "target 9\n",
      "height 8\n",
      "name:lt 8\n",
      "name:sv 8\n",
      "public_transport 8\n",
      "roof:height 8\n",
      "ruins 8\n",
      "covered 7\n",
      "fixme 7\n",
      "name:el 7\n",
      "name:sk 7\n",
      "name:uk 7\n",
      "old_name 7\n",
      "smoothness 7\n",
      "stars 7\n",
      "bridge:structure 6\n",
      "description 6\n",
      "entrance 6\n",
      "is_in 6\n",
      "name:hu 6\n",
      "opening_hours 6\n",
      "park_ride 6\n",
      "addr:place 5\n",
      "admin_level 5\n",
      "contact:phone 5\n",
      "email 5\n",
      "footway 5\n",
      "is_in:country 5\n",
      "name:bat-smg 5\n",
      "name:pt 5\n",
      "smoking 5\n",
      "tracktype 5\n",
      "brand 4\n",
      "building:type 4\n",
      "contact:facebook 4\n",
      "crane:type 4\n",
      "cuisine 4\n",
      "fax 4\n",
      "name:bg 4\n",
      "name:da 4\n",
      "name:en1 4\n",
      "name:et 4\n",
      "name:ro 4\n",
      "name:zh 4\n",
      "roof:material 4\n",
      "shopping 4\n",
      "tomb 4\n",
      "type 4\n",
      "contact:email 3\n",
      "contact:website 3\n",
      "cutting 3\n",
      "designation 3\n",
      "ele 3\n",
      "name:Temp 3\n",
      "name:en2 3\n",
      "name:fi 3\n",
      "name:he 3\n",
      "name:tr 3\n",
      "roof:colour 3\n",
      "start_date 3\n",
      "building:use 2\n",
      "contact:google_plus 2\n",
      "crossing 2\n",
      "fuel:octane_92 2\n",
      "icao 2\n",
      "indoor 2\n",
      "internet_access 2\n",
      "internet_access:fee 2\n",
      "name:alt 2\n",
      "name:arz 2\n",
      "name:cs 2\n",
      "name:cy 2\n",
      "name:fo 2\n",
      "name:kg 2\n",
      "name:nl 2\n",
      "proposed 2\n",
      "short_name 2\n",
      "sloped_curb 2\n",
      "FIXME 1\n",
      "addr:street:name 1\n",
      "addr:street:type 1\n",
      "addr:street_1 1\n",
      "aerodrome:type 1\n",
      "alt_name:de 1\n",
      "alt_name:sv 1\n",
      "alt_name_1 1\n",
      "alt_name_2 1\n",
      "building_1 1\n",
      "capacity:disabled 1\n",
      "car 1\n",
      "community 1\n",
      "community:fr 1\n",
      "community:gender 1\n",
      "contact:fax 1\n",
      "contact:phone:mobile 1\n",
      "count 1\n",
      "date_open 1\n",
      "direction 1\n",
      "fenced 1\n",
      "generator:source 1\n",
      "google_plus 1\n",
      "heritage 1\n",
      "heritage:operator 1\n",
      "iata 1\n",
      "industrial 1\n",
      "information 1\n",
      "isced:level 1\n",
      "length 1\n",
      "motorcar 1\n",
      "motorcycle 1\n",
      "name: 1\n",
      "name:be 1\n",
      "name:ca 1\n",
      "name:eu 1\n",
      "name:fa 1\n",
      "name:ga 1\n",
      "name:gl 1\n",
      "name:hr 1\n",
      "name:ja 1\n",
      "name:no 1\n",
      "name:oc 1\n",
      "name:ur 1\n",
      "noexit 1\n",
      "note1 1\n",
      "old_name:ar 1\n",
      "old_name:en 1\n",
      "passengers 1\n",
      "population 1\n",
      "ref:whc 1\n",
      "restricted 1\n",
      "rooms 1\n",
      "route 1\n",
      "runway 1\n",
      "short_name:en 1\n",
      "site_type 1\n",
      "source:highway 1\n",
      "source:levels 1\n",
      "source:oneway 1\n",
      "traffic_calming 1\n",
      "twitter 1\n",
      "url 1\n",
      "vehicle 1\n",
      "whc:criteria 1\n",
      "whc:inscription_date 1\n",
      "wifi 1\n",
      "wikipedia:hu 1\n",
      "\n"
     ]
    }
   ],
   "source": [
    "# Top 10 way tags\n",
    "myprint(sorted(\n",
    "            audit.count('./way/tag',mapto=lambda t: t.get('k'))\\\n",
    "                 .items(),\n",
    "            key=lambda (x,y): (-y,x))[:])"
   ]
  },
  {
   "cell_type": "markdown",
   "metadata": {},
   "source": [
    "### Node Elements"
   ]
  },
  {
   "cell_type": "code",
   "execution_count": 6,
   "metadata": {
    "collapsed": false
   },
   "outputs": [
    {
     "name": "stdout",
     "output_type": "stream",
     "text": [
      "total 22051\n",
      "power 4847\n",
      "name 2751\n",
      "name:en 2022\n",
      "name:ar 1725\n",
      "amenity 1381\n",
      "\n"
     ]
    }
   ],
   "source": [
    "# Top 5 node tags\n",
    "myprint(sorted(\n",
    "            audit.count('./node/tag',mapto=lambda t: t.get('k'))\\\n",
    "                 .items(),\n",
    "            key=lambda (x,y): (-y,x))[:6])"
   ]
  },
  {
   "cell_type": "markdown",
   "metadata": {},
   "source": [
    "<b>There are quite a few named nodes. Fewer german than arabic names, fewer arabic names than english ones. However, address tags are not even in the top 15. </b>"
   ]
  },
  {
   "cell_type": "code",
   "execution_count": 7,
   "metadata": {
    "collapsed": false
   },
   "outputs": [
    {
     "name": "stdout",
     "output_type": "stream",
     "text": [
      "total 2022\n",
      "Mobil 16\n",
      "Misr 12\n",
      "KFC 8\n",
      "Metro 7\n",
      "Shell 7\n",
      "\n"
     ]
    }
   ],
   "source": [
    "# Top 5 values of name\n",
    "myprint(sorted(\n",
    "            audit.count('./node/tag[@k=\"name:en\"]',mapto=lambda t: t.get('v'))\\\n",
    "            .items(),\n",
    "            key=lambda (x,y): (-y,x))[:6])"
   ]
  },
  {
   "cell_type": "code",
   "execution_count": 8,
   "metadata": {
    "collapsed": false
   },
   "outputs": [
    {
     "data": {
      "text/plain": [
       "19"
      ]
     },
     "execution_count": 8,
     "metadata": {},
     "output_type": "execute_result"
    }
   ],
   "source": [
    "# Number of nodes with arabic name but no english name\n",
    "len(audit.count('./node/tag/..',\n",
    "            mapto=lambda t: t.find('./tag[@k=\"name:ar\"]').get('v'),\n",
    "            cond=lambda t: bool(t.find('./tag[@k=\"name:ar\"]') is not None \\\n",
    "                                and  t.find('./tag[@k=\"name:en\"]') is None))) - 1"
   ]
  },
  {
   "cell_type": "code",
   "execution_count": 9,
   "metadata": {
    "collapsed": false
   },
   "outputs": [
    {
     "data": {
      "text/plain": [
       "1"
      ]
     },
     "execution_count": 9,
     "metadata": {},
     "output_type": "execute_result"
    }
   ],
   "source": [
    "# Number of nodes with a german name but no english name\n",
    "len(audit.count('./node/tag/..',\n",
    "            mapto=lambda t: t.find('./tag[@k=\"name:de\"]').get('v'),\n",
    "            cond=lambda t: bool(t.find('./tag[@k=\"name:de\"]') is not None \\\n",
    "                                and  t.find('./tag[@k=\"name:en\"]') is None))) - 1 "
   ]
  },
  {
   "cell_type": "markdown",
   "metadata": {},
   "source": [
    "<b>English named nodes are pretty much a superset of german and arabic named ones.</b>"
   ]
  },
  {
   "cell_type": "code",
   "execution_count": 10,
   "metadata": {
    "collapsed": false
   },
   "outputs": [
    {
     "name": "stdout",
     "output_type": "stream",
     "text": [
      "total 4847\n",
      "tower 4741\n",
      "pole 106\n",
      "\n"
     ]
    }
   ],
   "source": [
    "# Top 10 values of node@k=\"power\"\n",
    "myprint(sorted(\n",
    "            audit.count('./node/tag[@k=\"power\"]',mapto=lambda t: t.get('v'))\n",
    "                 .items(),\n",
    "            key=lambda (x,y): (-y,x))[:10])"
   ]
  },
  {
   "cell_type": "code",
   "execution_count": 11,
   "metadata": {
    "collapsed": false
   },
   "outputs": [
    {
     "name": "stdout",
     "output_type": "stream",
     "text": [
      "total 628\n",
      "addr:housenumber 228\n",
      "addr:street 169\n",
      "addr:city 123\n",
      "addr:housename 55\n",
      "addr:postcode 38\n",
      "addr:country 6\n",
      "addr:place 2\n",
      "addr:suburb 2\n",
      "addr:full 1\n",
      "addr:interpolation 1\n",
      "\n"
     ]
    }
   ],
   "source": [
    "# Top 10 address node tags\n",
    "myprint(sorted(\n",
    "            audit.count('./node/tag',\n",
    "                             mapto=lambda t: t.get('k'),\n",
    "                             cond=lambda t: t.get('k').startswith('addr')).items(),\n",
    "            key=lambda (x,y): (-y,x))[:11])"
   ]
  },
  {
   "cell_type": "markdown",
   "metadata": {},
   "source": [
    "<b>So where is the address information?? It seems the data is not used as expected. People use node names and way names rather than addresses.</b>"
   ]
  },
  {
   "cell_type": "code",
   "execution_count": 12,
   "metadata": {
    "collapsed": false
   },
   "outputs": [
    {
     "name": "stdout",
     "output_type": "stream",
     "text": [
      "EG 6\n",
      "total 6\n",
      "\n"
     ]
    }
   ],
   "source": [
    "# Values of country\n",
    "myprint(sorted(\n",
    "            audit.count('./node/tag[@k=\"addr:country\"]',\n",
    "                             mapto=lambda t: t.get('v')).items(),\n",
    "            key=lambda (x,y): (-y,x))[:10])"
   ]
  },
  {
   "cell_type": "code",
   "execution_count": 13,
   "metadata": {
    "collapsed": false
   },
   "outputs": [
    {
     "name": "stdout",
     "output_type": "stream",
     "text": [
      "total 123\n",
      "مدينة 6 أكتوبر 52\n",
      "Cairo 32\n",
      "giza 5\n",
      "الجيزة 4\n",
      "Giza 3\n",
      "cairo 3\n",
      "Gizeh 2\n",
      "New Cairo 2\n",
      "القاهرة 2\n",
      "\n"
     ]
    }
   ],
   "source": [
    "# Values of city\n",
    "myprint(sorted(\n",
    "            audit.count('./node/tag[@k=\"addr:city\"]',\n",
    "                             mapto=lambda t: t.get('v')).items(),\n",
    "            key=lambda (x,y): (-y,x))[:10])"
   ]
  },
  {
   "cell_type": "code",
   "execution_count": 14,
   "metadata": {
    "collapsed": false
   },
   "outputs": [
    {
     "name": "stdout",
     "output_type": "stream",
     "text": [
      "total 169\n",
      "حصرى 14\n",
      "مركزى 9\n",
      "مركزى طريق النصر 8\n",
      "هرم 8\n",
      "Katameya Heights 5\n",
      "No 4 5\n",
      "Road 9 5\n",
      "Ibrahim Baher Zaghloul 4\n",
      "Gaewad Hosni 3\n",
      "دولسى 3\n",
      "El Hadaek Street 2\n",
      "Ismail Mohamed Street 2\n",
      "No 3 2\n",
      "Salah Salem 2\n",
      "تحرير 2\n",
      "ماجدة 2\n",
      "مبارك 2\n",
      "واحات 2\n",
      "1 Sheraton buildings, Area 1, Heliopolis 1\n",
      "2 Soliman Abaza St.Mohandeseen, Giza 1\n",
      "205 1\n",
      "233 1\n",
      "24 شارع صالح خلف مسجد نصر الدين 1\n",
      "256 1\n",
      "26 يوليو 1\n",
      "26th of July Street 1\n",
      "26th of July Street (entrance on Al-Aziz Osman street) 1\n",
      "277 1\n",
      "51 Khedr El Touny St. 1\n",
      "59-60 Marioutiya Canal, Shara Kerdessa,  Cairo, Egypt 1\n",
      "9 1\n",
      "Abou El Feda Street 1\n",
      "Ahmed Fakhry Street 1\n",
      "Al Aaded Street 1\n",
      "Al Mehwar Al Markazi 1\n",
      "Al Nahda Street 1\n",
      "Al Orouba Street 1\n",
      "Al-Haram 1\n",
      "Al-Remaya Square 1\n",
      "Al-Sayed Al-Bakry 1\n",
      "Brazil Street 1\n",
      "Dreamland, El Wahat Road 1\n",
      "El Muez St. 1\n",
      "Heliopolis 1\n",
      "Ibn El Nabih 1\n",
      "Ismail Mohamed Street, Zamalek 1\n",
      "Joseph Tito Street 1\n",
      "Kamal Al-Din Salah 1\n",
      "Kasr El Sham 1\n",
      "Katamey Heights 1\n",
      "Lofti Hassuna 1\n",
      "Makram Ebeed 1\n",
      "Mohamed Atawia Street 1\n",
      "Mohamed Ibn Thakib Street 1\n",
      "Mohamed Mahmoud 1\n",
      "Mohamed Mazhar Street 1\n",
      "Mostafa Kamel Street 1\n",
      "Mostasmeroon El Ganobia 4 1\n",
      "Moubarak School 1\n",
      "Mustafa Kamel Street 1\n",
      "No 12 1\n",
      "Palestine Street 1\n",
      "Port Said 1\n",
      "Qalaat Al-Roda 1\n",
      "Ramsis St 1\n",
      "Road 10 1\n",
      "Road 12 1\n",
      "Road 213 1\n",
      "Saad Zagloul Street 1\n",
      "Saeed Zou Al Fakkar 1\n",
      "Saray elgezira, Zamalek 1\n",
      "Sh. Berlin 1\n",
      "Shehab 1\n",
      "Talat Harb 1\n",
      "أحمد حشمت 1\n",
      "إسماعيل محمد 1\n",
      "احمد الزمر 1\n",
      "امتداد محور 26 يوليو 1\n",
      "انس بن مالك 1\n",
      "بطل أحمد عبد العزيز 1\n",
      "جلاء 1\n",
      "جمال الدين الافغانى 1\n",
      "جمهورية 1\n",
      "جهينه داخل مول العرب 1\n",
      "حب الدين 1\n",
      "حسنين هيكل 1\n",
      "دكتور عادل غنيم 1\n",
      "دكتور محمد كامل حسين 1\n",
      "سرجاني 1\n",
      "سعاد كفافى 1\n",
      "سوريا 1\n",
      "سيدة نفيسة 1\n",
      "شريف 1\n",
      "شيخ المرصفي 1\n",
      "صالح 1\n",
      "عباس العقاد 1\n",
      "عمر المختار 1\n",
      "عمر بن الخطاب، الماظة 1\n",
      "كمال إبراهيم خليل 1\n",
      "مار جرجس 1\n",
      "مجاورة 12 1\n",
      "محمد السماحي 1\n",
      "مصر اسكندرية الصحراوى 1\n",
      "مصطفى رفعت 1\n",
      "معهد الأزهرى 1\n",
      "منيل 1\n",
      "واحات البحرية - الجيزة 1\n",
      "\n"
     ]
    }
   ],
   "source": [
    "# Values of street\n",
    "myprint(sorted(\n",
    "            audit.count('./node/tag[@k=\"addr:street\"]',\n",
    "                             mapto=lambda t: clean_arabic_street(t.get('v').strip())).items(),\n",
    "            key=lambda (x,y): (-y,x)))"
   ]
  },
  {
   "cell_type": "code",
   "execution_count": 15,
   "metadata": {
    "collapsed": false
   },
   "outputs": [
    {
     "name": "stdout",
     "output_type": "stream",
     "text": [
      "total 55\n",
      "5od 1\n",
      "AUC Hostel 1\n",
      "Cock Door 1\n",
      "DJ Foola 1\n",
      "Domino's Pizza دومينوز يتزا 1\n",
      "El Haram 1\n",
      "HH Import & Export and Trade Agency 1\n",
      "MUST Opera House 1\n",
      "Metro مترو ماركت 1\n",
      "National Bank 1\n",
      "Native cafe 1\n",
      "New Horizon 1\n",
      "Villa 60 1\n",
      "al qahira for housing and reconstruction 1\n",
      "el qahira for housing and reconstruction dwellings 1\n",
      "أبو على العجلاتى 1\n",
      "الفادى ماركت 1\n",
      "القدس للأتصالات 1\n",
      "المالكى 1\n",
      "المصطفى 1\n",
      "بازار الجامعة 1\n",
      "برعى 2000 للأدوات المكتبية والهدايا 1\n",
      "بقالة الحرمين 1\n",
      "بنك التعمير والأسكان 1\n",
      "بيتزاهت 1\n",
      "جمعية تنمية وتطوير الصادرات البستانية 1\n",
      "جمعية رسالة للأعمال الخيرية 1\n",
      "حدايد وبويات محمود 1\n",
      "حسنى الكبابجى 1\n",
      "خبراء للتنمية والأستثمار العقارى 1\n",
      "د.عواطف شاهير 1\n",
      "د.نيفين 1\n",
      "دارى للبناء والكيماويات 1\n",
      "دجاج كنتاكى 1\n",
      "دريم لأصلاح الدش 1\n",
      "سارة (أخوان البطه) سابقاً 1\n",
      "سينما جولف سيتى 1\n",
      "صحارى 1\n",
      "صيدلية د.محمد عبد الرازق 1\n",
      "صيدلية د.منال 1\n",
      "صيدلية د/اسلام 1\n",
      "صيدلية دكتور أحمد زكى 1\n",
      "طارق للمشويات 1\n",
      "عصير قصب البركة 1\n",
      "قهوة الصعيدى 1\n",
      "كارفور العبور 1\n",
      "كشك أبو جاد 1\n",
      "كشك علوان 1\n",
      "كلية الطب القصر العيني 1\n",
      "ماركت الشيمى 1\n",
      "ماكدونلدز 1\n",
      "مكتبات برناسوس 1\n",
      "مكتبة ركن الطلبة 1\n",
      "نور الأسلام للأسماك 1\n",
      "وصاية 1\n",
      "\n"
     ]
    }
   ],
   "source": [
    "# Values of housename\n",
    "myprint(sorted(\n",
    "            audit.count('./node/tag[@k=\"addr:housename\"]',\n",
    "                             mapto=lambda t: t.get('v')).items(),\n",
    "            key=lambda (x,y): (-y,x)))"
   ]
  }
 ],
 "metadata": {
  "kernelspec": {
   "display_name": "Python 2",
   "language": "python",
   "name": "python2"
  },
  "language_info": {
   "codemirror_mode": {
    "name": "ipython",
    "version": 2
   },
   "file_extension": ".py",
   "mimetype": "text/x-python",
   "name": "python",
   "nbconvert_exporter": "python",
   "pygments_lexer": "ipython2",
   "version": "2.7.6"
  }
 },
 "nbformat": 4,
 "nbformat_minor": 0
}
